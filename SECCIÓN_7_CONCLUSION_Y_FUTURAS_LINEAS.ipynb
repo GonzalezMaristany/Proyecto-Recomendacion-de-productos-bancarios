{
  "metadata": {
    "kernelspec": {
      "language": "python",
      "display_name": "Python 3",
      "name": "python3"
    },
    "language_info": {
      "name": "python",
      "version": "3.7.12",
      "mimetype": "text/x-python",
      "codemirror_mode": {
        "name": "ipython",
        "version": 3
      },
      "pygments_lexer": "ipython3",
      "nbconvert_exporter": "python",
      "file_extension": ".py"
    },
    "colab": {
      "provenance": []
    }
  },
  "nbformat_minor": 0,
  "nbformat": 4,
  "cells": [
    {
      "cell_type": "markdown",
      "source": [
        "> # # **PROYECTO: RECOMENDACIÓN DE PRODUCTOS BANCARIOS A CLIENTES**"
      ],
      "metadata": {
        "id": "5IuC3ViBQmNY"
      }
    },
    {
      "cell_type": "markdown",
      "source": [
        "![](http://upload.wikimedia.org/wikipedia/commons/thumb/4/42/Santander_Argentina_Logo.png/1200px-Santander_Argentina_Logo.png)\n"
      ],
      "metadata": {
        "id": "lqHBzXbMQmNb"
      }
    },
    {
      "cell_type": "markdown",
      "source": [
        "> # **EQUIPO DE TRABAJO**\n",
        "![](https://encrypted-tbn0.gstatic.com/images?q=tbn:ANd9GcQh9_i7yEc-BPq9RSjtEBNgZ4rV-rnYWPhVu3Vvoik6lCsJ8372Bm_iF1ovcYv85Mm8o98&usqp=CAU)\n",
        "\n",
        "# *  Magalí Estefanía Gonzalez\n",
        "# * Héctor Guillermo Maristany"
      ],
      "metadata": {
        "id": "qbNy_5jRQmNc"
      }
    },
    {
      "cell_type": "markdown",
      "source": [
        "**Link a GitHub:** ![images.png](data:image/png;base64,iVBORw0KGgoAAAANSUhEUgAAAT4AAACfCAMAAABX0UX9AAAAhFBMVEX///8AAACbm5vs7OzIyMj5+flMTExFRUWJiYmNjY3AwMAoKChmZmb8/Pzp6enz8/OVlZV4eHiurq6kpKTT09Ph4eHW1tbBwcFUVFSDg4Pd3d3Nzc0YGBhBQUGhoaFkZGQ6OjoiIiIxMTG0tLRubm4LCwslJSVzc3NRUVEbGxtcXFwuLi5cvcp1AAAJDElEQVR4nO2daWOqOhCGQUFFRawLVm1dqrZV////u2wJSSYBDJ4GL/N8OVVwgJeQWRJyLAtBEARBEARBEARBEARBEARBEARBEARBEARBEAT5hwSTzXY1PA2dcNn1TZ/MK+FvZuveyGa4fv7MF4Hp83oFJrP9hy2n19mYPrtmE8x6Cuky7tOl6XNsLOFPsXYpvyvT59lItu9VxEua4Mz0uTaOsLJ4MaOh6fNtFMHbI+LF9NGLZPjW6VHxYgamz7shBHsd9aIuEBtgxEIV5pUzN33u5plrixfxY/rsTbOuo55tf7qmL8Ao43rq2faxzZnwra56tn3pmr4IYzxBvRbrV/vJTbm2s/8bPEc92z6YvhITzJ6lnm2PTV/L37N4nnq23TF9NX+Ny+cah+ODgh0u3MeF6ev5Y3i3EWdf4fRaUbo3J3IWE+6rj3a5jyEvSBZ7VKmYXmfZsNsn93Wr0reAl+SLbgj7JerlheYpv8ExcR2GEKqja2YTaZdf53VnNlw5w9PceyMDSB4z4LvlbYz+/CKMsVE2qQj/53swBONp3W2nd+C+7QpG2lO9EpM1vQdPfK7b4j1AyKcXdohWpmU/6Dqnjjfwoj5h8cpSg0pBqGVGtFLc/DbrI7vv9W1YdeKML/yr+u6PEHs+295q2QFmdqo9fSuUzV6gfYY/KVRe0rxd8l1Zj0uftKcNzMBBSa1RWxeYOSr3lde0M48VnKO/3wsmf5D9mbE9evCydNEhOz4rLxJiPuG2Vgc2YpULchV1xVSxbpb+qXuQRsknqbTcnmRHWnnxlVXZdPs5+9RXHqlR8sl6IZ0Bi9+qdjyFeudka/4wpI3Rn2TkXqFJ8vGpPnshDyKbmiDrRCUPeUra9S3pZ4c/v9xWk+STPHN3PUuSarXs6eXKEMfb2vPW56TclfrCvPWln2ky00z5JDMydH36F7B0gXFYyGz2cve62e2zfUlnck0/N1s+F07JeNO1tQWmJO4zD5PuQmySyUf0zeRqtnySnkh/oBGWB0EU69Kq9EegSBG2SZn2lH1qtnyw66tR6HSAMeCE8vxandq4zmxFfXaz5YMpRx27wBio+nXIlqqxJZUvn0L9NPnc5dYJa43qw6ivjjWYjImRHw2ZlYmhs5vH7LKUhbqat+TbiVUu32qWQjreZfY5PiSVLww62bV/TbXn5fhH8XprjdEORWvAi9O3a5RFATJmcoha3uw8EuzFnSn522Oug5HPJ96QNHAaUVmMfFzEoTs1WywRF5RJqrAE5oS3FmhU11PaIM9DX5qfxLE1+fsnXBCoKnHrI5KTlkDNWLLumZp9yvXWmyMPzAmul+YQ6uiIkW8KzHHyydCUT7PECa3p1foIwJxQvKE9WdbFu28ccShjRj7101AETFT1bgMBmFvz22lknYV1QuuPvaAZ+fSuG4Z99aqwwJwQRVLfkvURxfKV9H115eu/M6PYwn2uBpTvya1PiJsfk8/Zj8fUQ/6OI/YL2UF05Ptdxb5/SQX8sjSA8+jrzQ4A5vb8dipfpYc3hvpqR30QHfm6gnmtXBW2vid7XiGMXD0sX0HSVku+SbaRBoU6jx2Ur9bbkTCMFPo+6joyz1tLvt/OlKItH/1Cp91Az1vr1TQ4x1IwRws8WdwXiXOJ0JOPyTrodw/LR+3rtBvox7WGiQiwMQtxHz1ZEme5EXkd4TH5VDnvQ/LRzk9HPljuu2hYocCSgZB10HyUy3l3BuWrPMAuA3ZWdp3FCb6BNbFHoYEC6+EbIZ9O65PU6mv4DsnNEKNw6uhYl2xSPvrwniwN+Cm1Me86ZlIkb2OK0RSNXFhhTconsf8AksUyJuW/UnAAtr7FXfIw9ZB/aVI+GixopVuSBqMdukheDdmDnc50W48Wef+RfCSIKJSPCqBVtGeHXQmqIbAyJNM0YPGV0fiyy66BBr1F8uUhUFX5SNMvStqoL9N7Ew9OK9Me6IWVeum4Ez/L4LN/uOdv1BTlvLmvLpPvwH6wuh1q32KL9empUWk1u3zZqxtaZQPZjZCNaMACd45EPutOt45ut1HsH8vky2dwjcZjduqDxeUJl974lgcemoMUO1uCjveQzbCCXZ9VuFqCTL4zt0ecqJXJ17EVWAXlUk2HKW0Mo8eH7s4yO/JYSv3mq0y+FbdHFfmU7dtSyye90VWA0UbE96M3Q/4qteIuSIrwKTL5fO4Eq8gnm/ZUJp92rqVo6g+ti7aU3gN1+cGRrxWTlFBE+fjGVEm+7sXm+RDlE2cHaKUcCbL5kTHnyoGQq2pN6kDenR+heOkBSSRxoDtvmO6flY8ZnqDypeHNhLudl3kgytcdcsfXV49t6v0zd1fWlZ7gQOp8ktMu/N3CYw7WH1Bvv/WS+qfHNH//RJzpexRu+J2BF7NmoiJ3mn43IKkg/YV9jm/idL0eDOKW2U32i/8akt565NVaPIVWgGPf7XIlu99TSRMMhgXrR5S/Ux6EzmrlLKrcpm64LZjNIwb68efl1lltC88/OrwT1l54hpQNvhJLwmsD9/VJfgR3cxrAggNLS1bEoaHBNZ1iAMsIcG0Wv3zNl9asSJc3onT4AGQiErfu38WdWtr4uGAo8Wbii0bSdqSM3zO0Xk16TZg4M/HhwpCPrP/1reL39GuNmbwYbOyXuEEuBVMUI4pX+mvVYrCMFOmsFNYzKAKQotJJvfHO14N5ElM/weRyiil/gZgasbTGb6Qwj2+WCwXTJPPZz5RKFPje1q0kztSK8xpncQFbHTRrTZZ7bfIqXNVivVI+9au4/2Nyb1FxpFwlXzvXP3RzOaoV/lXy6Q8UvzJ+kNfVblWqrwr5Wrt4eJepS95OaSPyuyvVsK9cvnqTo1+agC+6f/X78ZCzqiuTytfathfjy4Z9VfJJBjg+2tnv5UhWqKkuX6+VPpcDTrBVpR1AvhZGy5CNuKSDSj5xv6GJFbiah+/pyLdvWZWgAH7JUtVoFSvfR6vqe6Wcrg/JN0WfITCnEylUwQgtWA3a+p8kFHLKXKvKIaRT0o4d7PQULNaXgvpLGLXPsTKlQ6x4qZOCB7NwI4IgCIIgCIIgCIIgCIIgCIIgCIIgCIIgCIIgCIIgyL/jP++WclTK4HoXAAAAAElFTkSuQmCC)\n",
        "\n",
        "**https://github.com/GonzalezMaristany/Proyecto-Recomendacion-de-productos-bancarios**"
      ],
      "metadata": {
        "id": "O9_2PmNpRLJv"
      }
    },
    {
      "cell_type": "markdown",
      "source": [
        "# **Sección 7: CONCLUSION Y FUTURAS LINEAS:**\n",
        "![](https://tse4.mm.bing.net/th?id=OIP.OzNNgOHXaOw6H97ShP4u0gHaHa&pid=Api&P=0)"
      ],
      "metadata": {
        "id": "KCw7liDerinz"
      }
    },
    {
      "cell_type": "markdown",
      "source": [
        "# **7.1 Conclusión:**"
      ],
      "metadata": {
        "id": "TMAnrqmiQl7h"
      }
    },
    {
      "cell_type": "markdown",
      "source": [
        "Antes de sacar una conclusión, es importante repasar el problema inicial que enfrenta Santander. La empresa necesita mejorar su publicidad de productos a los clientes para aumentar la probabilidad de que los clientes agreguen y usen sus servicios. Esto no solo mejorará la experiencia del cliente, sino que también aumentará los ingresos de la empresa.\n",
        "\n",
        "Para abordar este problema, se analizaron los datos proporcionados y se generaron algunos conocimientos clave. Luego, se prepararon los datos para los algoritmos de aprendizaje automático y se construyeron nuevas funciones para obtener más información. Se probaron diferentes modelos hasta que se encontró uno (XGBoost) que no solo funcionó con precisión al recomendar productos, sino que también brindó una alta precisión al recomendar los tres productos principales que es más probable que un cliente agregue en el próximo mes.\n",
        "\n",
        "El análisis exploratorio de datos (EDA) también reveló que el 19% de los clientes de Santander no poseen ningún producto, lo que representa un gran potencial para el nuevo algoritmo de recomendación. Además, un 52,5% de los clientes solo posee un producto, lo que significa que también existe un gran potencial para agregar uno o más productos a sus servicios.\n",
        "\n",
        "La edad del cliente es una características importante que se exploró en detalle. El producto \"Cuentas corrientes\" es utilizado principalmente por clientes más jóvenes, mientras que las personas mayores prefieren una cuenta particular. El grupo de mayor edad, como se descubrió en el EDA, en su mayoría tiene cuentas particulares y tiene mayor antigüedad, por lo que es probable que los tres principales productos sean de su interés.\n",
        "\n",
        "Por lo tanto, podría tener sentido construir diferentes canalizaciones de aprendizaje automático para diferentes grupos de edad o segmentos de clientes, como individuales, universitarios y VIP. Además, se identificaron diferentes canales para unirse, como KHE (para cuenta corriente) y KAT o KFC (para otras cuentas), que ya podrían ser un punto de partida para anunciar los diferentes productos a los clientes.\n",
        "\n",
        "En conclusión, los conocimientos y predicciones obtenidos serán muy útiles para el objetivo de Santander y contribuirán a recomendar los productos adecuados al grupo de clientes adecuado a través de diferentes canales.\n"
      ],
      "metadata": {
        "id": "iMs85mwCrs-x"
      }
    },
    {
      "cell_type": "markdown",
      "source": [
        "# **7.2 Futuras líneas:**"
      ],
      "metadata": {
        "id": "fWpDCiS7r1Oq"
      }
    },
    {
      "cell_type": "markdown",
      "source": [
        "Para mejorar aún más el algoritmo y el proyecto, hay varias opciones a considerar:\n",
        "\n",
        "\n",
        "*   Una de ellas es realizar un GridSearch más riguroso, lo que permitiría explorar más exhaustivamente el espacio de parámetros y encontrar la configuración óptima del modelo. \n",
        "*   Se podría considerar el uso de métricas más sofisticadas, como Map@7, que proporcionan una evaluación más detallada del rendimiento del modelo.\n",
        "*   Otra posibilidad para mejorar el rendimiento del modelo sería incorporar información sobre tendencias estacionales, como los meses de impuestos, que podrían ser importantes predictores del comportamiento de los clientes.\n",
        "*   Una excelente manera de hacer que el modelo sea más robusto y generalizable es utilizar datasets de marketing de otros bancos. De esta manera, podemos analizar cómo características similares, o no, impactaron en los ingresos en diferentes contextos y casos de negocio. Al incorporar estas perspectivas más amplias en nuestro análisis, podemos obtener una comprensión más completa de las tendencias y patrones en la publicidad de productos bancarios. Esto también puede ayudar a identificar características clave que son importantes para los clientes de diferentes bancos y segmentos de la población. En última instancia, esto podría ayudar a mejorar el rendimiento y la eficacia del modelo y, por lo tanto, mejorar los resultados comerciales de Santander.\n",
        "\n",
        "\n",
        "\n"
      ],
      "metadata": {
        "id": "VSCoPSeVr5Ac"
      }
    }
  ]
}