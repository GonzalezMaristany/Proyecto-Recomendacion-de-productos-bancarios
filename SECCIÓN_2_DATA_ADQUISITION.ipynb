{
  "metadata": {
    "kernelspec": {
      "language": "python",
      "display_name": "Python 3",
      "name": "python3"
    },
    "language_info": {
      "name": "python",
      "version": "3.7.12",
      "mimetype": "text/x-python",
      "codemirror_mode": {
        "name": "ipython",
        "version": 3
      },
      "pygments_lexer": "ipython3",
      "nbconvert_exporter": "python",
      "file_extension": ".py"
    },
    "colab": {
      "provenance": []
    }
  },
  "nbformat_minor": 0,
  "nbformat": 4,
  "cells": [
    {
      "cell_type": "markdown",
      "source": [
        "> # # **PROYECTO: RECOMENDACIÓN DE PRODUCTOS BANCARIOS A CLIENTES**"
      ],
      "metadata": {
        "id": "AXh5iQ8-TfRF"
      }
    },
    {
      "cell_type": "markdown",
      "source": [
        "![](http://upload.wikimedia.org/wikipedia/commons/thumb/4/42/Santander_Argentina_Logo.png/1200px-Santander_Argentina_Logo.png)\n"
      ],
      "metadata": {
        "id": "8PDFNr-1TfRJ"
      }
    },
    {
      "cell_type": "markdown",
      "source": [
        "> # **Sección 2. Data Acquisition**\n",
        "![](https://cdn-icons-png.flaticon.com/128/2103/2103581.png)"
      ],
      "metadata": {
        "id": "uyFMFdUTTfRO"
      }
    },
    {
      "cell_type": "markdown",
      "source": [
        "**Fuente:** https://www.kaggle.com/competitions/santander-product-recommendation/data"
      ],
      "metadata": {
        "id": "6Q-XBMAWTfRO"
      }
    },
    {
      "cell_type": "markdown",
      "source": [
        "Se eligió utilizar este conjunto de datos por las siguientes razones:\n",
        "\n",
        "Estamos familiarizados con la temática.\n",
        "El conjunto de datos incluye una amplia variedad de variables demográficas de los clientes, así como un target de 24 productos bancarios.\n",
        "La información contenida en el conjunto de datos es relevante y podría ser útil para abordar situaciones similares en otras empresas, especialmente para la construcción de modelos de sistemas de recomendación."
      ],
      "metadata": {
        "id": "rGsH97BwTfRP"
      }
    },
    {
      "cell_type": "markdown",
      "source": [
        "**Las variables potenciales para el proyecto son:**\n",
        "\n",
        "**1. Información demográfica del cliente:**\n",
        "\n",
        "* ncodpers: Código del cliente\n",
        "* ind_empleado: índice de empleados: A activo, B ex empleado, F filial, N no empleado, P pasivo\n",
        "* pais_residencia: País de residencia del cliente.\n",
        "* sexo: Sexo del cliente.\n",
        "* age: Edad\n",
        "* fecha_alta: La fecha en que el cliente pasó a ser el primer titular de un contrato en el banco.\n",
        "* ind_nuevo: Índice de nuevos clientes. 1 si el cliente se registró en los últimos 6 meses.\n",
        "* antiguedad: Antigüedad del cliente (en meses)\n",
        "* ult_fec_cli_1t: Última fecha como cliente principal (si no es a fin de mes).\n",
        "* indrel_1mes: Tipo de cliente al comienzo del mes, 1 (primer cliente/principal), 2 (copropietario), P (potencial), 3 (antiguo principal), 4 (antiguo copropietario).\n",
        "* indresi: Índice de residencia (S (Sí) o N (No) si el país de residencia es el mismo que el del banco)..\n",
        "* canal_entrada: canal utilizado por el cliente para unirse.\n",
        "* nomprov: nombre de la provincia.\n",
        "* ind_actividad_cliente: Índice de actividad (1, cliente activo; 0, cliente inactivo).\n",
        "* renta: Ingreso bruto del hogar.\n",
        "* segmento: segmentación: 01 - VIP, 02 - Particulares 03 - graduado universitario.\n",
        "\n",
        "**2. Comportamiento de compra productos ofrecidos por el banco**\n",
        "\n",
        "* ind_ahor_fin_ult1: Cuenta de ahorro\n",
        "* ind_aval_fin_ult1: Garantías\n",
        "* ind_cco_fin_ult1: Cuenta corriente\n",
        "* ind_cder_fin_ult1: Cuenta derivada\n",
        "* ind_cno_fin_ult1: Cuenta de Nómina\n",
        "* ind_ctju_fin_ult1: Cuenta Junior\n",
        "* ind_ctma_fin_ult1: Cuenta más particular\n",
        "* ind_ctop_fin_ult1: cuenta particular\n",
        "* ind_ctpp_fin_ult1: Cuenta Plus en particular\n",
        "* ind_deco_fin_ult1: Depósitos a corto plazo\n",
        "* ind_deme_fin_ult1: Depósitos a mediano plazo\n",
        "* ind_dela_fin_ult1: Depósitos a largo plazo\n",
        "* ind_ecue_fin_ult1: cuenta electronica\n",
        "* ind_fond_fin_ult1: Fondos\n",
        "* ind_hip_fin_ult1: Hipoteca\n",
        "* ind_plan_fin_ult1: Pensiones\n",
        "* ind_pres_fin_ult1: Préstamos\n",
        "* ind_reca_fin_ult1: Impuestos\n",
        "* ind_tjcr_fin_ult1: Tarjeta de crédito\n",
        "* ind_valo_fin_ult1: Valores\n",
        "* ind_viv_fin_ult1: Cuenta de inicio\n",
        "* ind_nomina_ult1: Nómina de sueldos\n",
        "* ind_nom_pens_ult1: Nómina de Pensiones\n",
        "* ind_recibo_ult1: Débito directo"
      ],
      "metadata": {
        "id": "5CsvUxYdTfRP"
      }
    },
    {
      "cell_type": "markdown",
      "source": [
        "**2.1 IMPORTACIÓN DE LIBRERÍAS**"
      ],
      "metadata": {
        "id": "FKyKnY0JTfRP"
      }
    },
    {
      "cell_type": "code",
      "source": [
        "import os\n",
        "for dirname, _, filenames in os.walk('/kaggle/input'):\n",
        "    for filename in filenames:\n",
        "        print(os.path.join(dirname, filename))\n",
        "        \n",
        "# Tratamiento de datos\n",
        "import numpy as np                    \n",
        "import pandas as pd\n",
        "!pip install prettytable\n",
        "from prettytable import PrettyTable\n",
        "import warnings\n",
        "# Gráficos\n",
        "import matplotlib as mpl              # Importar MatPlotLib\n",
        "import matplotlib.pyplot as plt # El modulo Pyplot de Matplotlib\n",
        "!pip install seaborn\n",
        "import seaborn as sns                 # Importar Seaborn\n",
        "#from sklearn.preprocessing import scale\n",
        "!pip install scikit-learn\n",
        "from sklearn import preprocessing  # Import label encoder\n",
        "from sklearn.impute import SimpleImputer\n",
        "from sklearn.model_selection import train_test_split #para separar en train y test\n",
        "from sklearn.datasets import make_classification\n",
        "from sklearn.decomposition import PCA\n",
        "from sklearn.decomposition import IncrementalPCA\n",
        "from sklearn.preprocessing import StandardScaler\n",
        "from sklearn.model_selection import GridSearchCV\n",
        "!pip install scikit-multilearn\n",
        "from skmultilearn.problem_transform import BinaryRelevance\n",
        "# Modelos de Clasificacion:\n",
        "# LOGISTIC REGRESSION\n",
        "from sklearn.linear_model import LogisticRegression\n",
        "# MULTINOMIAL NAVES BAYES\n",
        "from sklearn.naive_bayes import MultinomialNB\n",
        "# LIGHT GBM\n",
        "!pip install lightgbm\n",
        "import lightgbm as lgb\n",
        "# RANDOM FOREST\n",
        "from sklearn.ensemble import RandomForestClassifier\n",
        "# XGBOOST\n",
        "!pip install xgboost\n",
        "import xgboost \n",
        "from xgboost import XGBClassifier\n",
        "from sklearn.multioutput import MultiOutputClassifier\n",
        "from xgboost import plot_importance\n",
        "# Métricas\n",
        "from sklearn import metrics\n",
        "from sklearn.metrics import accuracy_score\n",
        "from sklearn.metrics import confusion_matrix\n",
        "from sklearn.metrics import precision_score\n",
        "from sklearn.metrics import recall_score\n",
        "from sklearn.model_selection import cross_val_score\n",
        "from sklearn.metrics import classification_report\n",
        "from sklearn.metrics import jaccard_score\n",
        "from sklearn.metrics import precision_score\n",
        "from sklearn.metrics import recall_score\n",
        "from sklearn.metrics import f1_score\n",
        "print('¡Librerías importadas con éxito!')"
      ],
      "metadata": {
        "execution": {
          "iopub.status.busy": "2023-03-13T21:09:43.417759Z",
          "iopub.execute_input": "2023-03-13T21:09:43.418394Z",
          "iopub.status.idle": "2023-03-13T21:09:45.016825Z",
          "shell.execute_reply.started": "2023-03-13T21:09:43.418235Z",
          "shell.execute_reply": "2023-03-13T21:09:45.015603Z"
        },
        "trusted": true,
        "id": "gpyYWTeOTfRQ",
        "outputId": "d2bdef95-6881-48be-9422-6f61fc8d3daf",
        "colab": {
          "base_uri": "https://localhost:8080/"
        }
      },
      "execution_count": 1,
      "outputs": [
        {
          "output_type": "stream",
          "name": "stdout",
          "text": [
            "Looking in indexes: https://pypi.org/simple, https://us-python.pkg.dev/colab-wheels/public/simple/\n",
            "Requirement already satisfied: prettytable in /usr/local/lib/python3.10/dist-packages (0.7.2)\n",
            "Looking in indexes: https://pypi.org/simple, https://us-python.pkg.dev/colab-wheels/public/simple/\n",
            "Requirement already satisfied: seaborn in /usr/local/lib/python3.10/dist-packages (0.12.2)\n",
            "Requirement already satisfied: numpy!=1.24.0,>=1.17 in /usr/local/lib/python3.10/dist-packages (from seaborn) (1.22.4)\n",
            "Requirement already satisfied: pandas>=0.25 in /usr/local/lib/python3.10/dist-packages (from seaborn) (1.5.3)\n",
            "Requirement already satisfied: matplotlib!=3.6.1,>=3.1 in /usr/local/lib/python3.10/dist-packages (from seaborn) (3.7.1)\n",
            "Requirement already satisfied: contourpy>=1.0.1 in /usr/local/lib/python3.10/dist-packages (from matplotlib!=3.6.1,>=3.1->seaborn) (1.0.7)\n",
            "Requirement already satisfied: cycler>=0.10 in /usr/local/lib/python3.10/dist-packages (from matplotlib!=3.6.1,>=3.1->seaborn) (0.11.0)\n",
            "Requirement already satisfied: fonttools>=4.22.0 in /usr/local/lib/python3.10/dist-packages (from matplotlib!=3.6.1,>=3.1->seaborn) (4.39.3)\n",
            "Requirement already satisfied: kiwisolver>=1.0.1 in /usr/local/lib/python3.10/dist-packages (from matplotlib!=3.6.1,>=3.1->seaborn) (1.4.4)\n",
            "Requirement already satisfied: packaging>=20.0 in /usr/local/lib/python3.10/dist-packages (from matplotlib!=3.6.1,>=3.1->seaborn) (23.1)\n",
            "Requirement already satisfied: pillow>=6.2.0 in /usr/local/lib/python3.10/dist-packages (from matplotlib!=3.6.1,>=3.1->seaborn) (8.4.0)\n",
            "Requirement already satisfied: pyparsing>=2.3.1 in /usr/local/lib/python3.10/dist-packages (from matplotlib!=3.6.1,>=3.1->seaborn) (3.0.9)\n",
            "Requirement already satisfied: python-dateutil>=2.7 in /usr/local/lib/python3.10/dist-packages (from matplotlib!=3.6.1,>=3.1->seaborn) (2.8.2)\n",
            "Requirement already satisfied: pytz>=2020.1 in /usr/local/lib/python3.10/dist-packages (from pandas>=0.25->seaborn) (2022.7.1)\n",
            "Requirement already satisfied: six>=1.5 in /usr/local/lib/python3.10/dist-packages (from python-dateutil>=2.7->matplotlib!=3.6.1,>=3.1->seaborn) (1.16.0)\n",
            "Looking in indexes: https://pypi.org/simple, https://us-python.pkg.dev/colab-wheels/public/simple/\n",
            "Requirement already satisfied: scikit-learn in /usr/local/lib/python3.10/dist-packages (1.2.2)\n",
            "Requirement already satisfied: numpy>=1.17.3 in /usr/local/lib/python3.10/dist-packages (from scikit-learn) (1.22.4)\n",
            "Requirement already satisfied: scipy>=1.3.2 in /usr/local/lib/python3.10/dist-packages (from scikit-learn) (1.10.1)\n",
            "Requirement already satisfied: joblib>=1.1.1 in /usr/local/lib/python3.10/dist-packages (from scikit-learn) (1.2.0)\n",
            "Requirement already satisfied: threadpoolctl>=2.0.0 in /usr/local/lib/python3.10/dist-packages (from scikit-learn) (3.1.0)\n",
            "Looking in indexes: https://pypi.org/simple, https://us-python.pkg.dev/colab-wheels/public/simple/\n",
            "Collecting scikit-multilearn\n",
            "  Downloading scikit_multilearn-0.2.0-py3-none-any.whl (89 kB)\n",
            "\u001b[2K     \u001b[90m━━━━━━━━━━━━━━━━━━━━━━━━━━━━━━━━━━━━━━━━\u001b[0m \u001b[32m89.4/89.4 kB\u001b[0m \u001b[31m8.8 MB/s\u001b[0m eta \u001b[36m0:00:00\u001b[0m\n",
            "\u001b[?25hInstalling collected packages: scikit-multilearn\n",
            "Successfully installed scikit-multilearn-0.2.0\n",
            "Looking in indexes: https://pypi.org/simple, https://us-python.pkg.dev/colab-wheels/public/simple/\n",
            "Requirement already satisfied: lightgbm in /usr/local/lib/python3.10/dist-packages (3.3.5)\n",
            "Requirement already satisfied: wheel in /usr/local/lib/python3.10/dist-packages (from lightgbm) (0.40.0)\n",
            "Requirement already satisfied: numpy in /usr/local/lib/python3.10/dist-packages (from lightgbm) (1.22.4)\n",
            "Requirement already satisfied: scipy in /usr/local/lib/python3.10/dist-packages (from lightgbm) (1.10.1)\n",
            "Requirement already satisfied: scikit-learn!=0.22.0 in /usr/local/lib/python3.10/dist-packages (from lightgbm) (1.2.2)\n",
            "Requirement already satisfied: joblib>=1.1.1 in /usr/local/lib/python3.10/dist-packages (from scikit-learn!=0.22.0->lightgbm) (1.2.0)\n",
            "Requirement already satisfied: threadpoolctl>=2.0.0 in /usr/local/lib/python3.10/dist-packages (from scikit-learn!=0.22.0->lightgbm) (3.1.0)\n",
            "Looking in indexes: https://pypi.org/simple, https://us-python.pkg.dev/colab-wheels/public/simple/\n",
            "Requirement already satisfied: xgboost in /usr/local/lib/python3.10/dist-packages (1.7.5)\n",
            "Requirement already satisfied: numpy in /usr/local/lib/python3.10/dist-packages (from xgboost) (1.22.4)\n",
            "Requirement already satisfied: scipy in /usr/local/lib/python3.10/dist-packages (from xgboost) (1.10.1)\n",
            "¡Librerías importadas con éxito!\n"
          ]
        }
      ]
    },
    {
      "cell_type": "markdown",
      "source": [
        "**2.2 LECTURA DEL DATASET**"
      ],
      "metadata": {
        "id": "sxTfEiEABJ7D"
      }
    },
    {
      "cell_type": "code",
      "source": [
        "#Lectura de dataset (archivo csv)\n",
        "clientes = pd.read_csv('/kaggle/input/santander-product-recommendation/train_ver2.csv.zip', header=0)\n",
        "# Muestra de las diez primeras filas del dataset\n",
        "clientes.head(10)"
      ],
      "metadata": {
        "execution": {
          "iopub.status.busy": "2023-03-13T18:41:00.997800Z",
          "iopub.execute_input": "2023-03-13T18:41:00.999188Z",
          "iopub.status.idle": "2023-03-13T18:42:16.514859Z",
          "shell.execute_reply.started": "2023-03-13T18:41:00.999108Z",
          "shell.execute_reply": "2023-03-13T18:42:16.513511Z"
        },
        "trusted": true,
        "id": "dCAefRTJTfRS",
        "outputId": "3c752e6d-7142-4236-9edd-fe4a31ca5a88"
      },
      "execution_count": null,
      "outputs": [
        {
          "name": "stderr",
          "text": "/opt/conda/lib/python3.7/site-packages/IPython/core/interactiveshell.py:3552: DtypeWarning: Columns (5,8,11,15) have mixed types.Specify dtype option on import or set low_memory=False.\n  exec(code_obj, self.user_global_ns, self.user_ns)\n",
          "output_type": "stream"
        },
        {
          "execution_count": 3,
          "output_type": "execute_result",
          "data": {
            "text/plain": "   fecha_dato  ncodpers ind_empleado pais_residencia sexo  age  fecha_alta  \\\n0  2015-01-28   1375586            N              ES    H   35  2015-01-12   \n1  2015-01-28   1050611            N              ES    V   23  2012-08-10   \n2  2015-01-28   1050612            N              ES    V   23  2012-08-10   \n3  2015-01-28   1050613            N              ES    H   22  2012-08-10   \n4  2015-01-28   1050614            N              ES    V   23  2012-08-10   \n5  2015-01-28   1050615            N              ES    H   23  2012-08-10   \n6  2015-01-28   1050616            N              ES    H   23  2012-08-10   \n7  2015-01-28   1050617            N              ES    H   23  2012-08-10   \n8  2015-01-28   1050619            N              ES    H   24  2012-08-10   \n9  2015-01-28   1050620            N              ES    H   23  2012-08-10   \n\n   ind_nuevo antiguedad  indrel  ... ind_hip_fin_ult1 ind_plan_fin_ult1  \\\n0        0.0          6     1.0  ...                0                 0   \n1        0.0         35     1.0  ...                0                 0   \n2        0.0         35     1.0  ...                0                 0   \n3        0.0         35     1.0  ...                0                 0   \n4        0.0         35     1.0  ...                0                 0   \n5        0.0         35     1.0  ...                0                 0   \n6        0.0         35     1.0  ...                0                 0   \n7        0.0         35     1.0  ...                0                 0   \n8        0.0         35     1.0  ...                0                 0   \n9        0.0         35     1.0  ...                0                 0   \n\n  ind_pres_fin_ult1 ind_reca_fin_ult1 ind_tjcr_fin_ult1 ind_valo_fin_ult1  \\\n0                 0                 0                 0                 0   \n1                 0                 0                 0                 0   \n2                 0                 0                 0                 0   \n3                 0                 0                 0                 0   \n4                 0                 0                 0                 0   \n5                 0                 0                 0                 0   \n6                 0                 0                 0                 0   \n7                 0                 0                 0                 0   \n8                 0                 0                 0                 0   \n9                 0                 0                 0                 0   \n\n  ind_viv_fin_ult1 ind_nomina_ult1  ind_nom_pens_ult1  ind_recibo_ult1  \n0                0             0.0                0.0                0  \n1                0             0.0                0.0                0  \n2                0             0.0                0.0                0  \n3                0             0.0                0.0                0  \n4                0             0.0                0.0                0  \n5                0             0.0                0.0                0  \n6                0             0.0                0.0                0  \n7                0             0.0                0.0                0  \n8                0             0.0                0.0                0  \n9                0             0.0                0.0                0  \n\n[10 rows x 48 columns]",
            "text/html": "<div>\n<style scoped>\n    .dataframe tbody tr th:only-of-type {\n        vertical-align: middle;\n    }\n\n    .dataframe tbody tr th {\n        vertical-align: top;\n    }\n\n    .dataframe thead th {\n        text-align: right;\n    }\n</style>\n<table border=\"1\" class=\"dataframe\">\n  <thead>\n    <tr style=\"text-align: right;\">\n      <th></th>\n      <th>fecha_dato</th>\n      <th>ncodpers</th>\n      <th>ind_empleado</th>\n      <th>pais_residencia</th>\n      <th>sexo</th>\n      <th>age</th>\n      <th>fecha_alta</th>\n      <th>ind_nuevo</th>\n      <th>antiguedad</th>\n      <th>indrel</th>\n      <th>...</th>\n      <th>ind_hip_fin_ult1</th>\n      <th>ind_plan_fin_ult1</th>\n      <th>ind_pres_fin_ult1</th>\n      <th>ind_reca_fin_ult1</th>\n      <th>ind_tjcr_fin_ult1</th>\n      <th>ind_valo_fin_ult1</th>\n      <th>ind_viv_fin_ult1</th>\n      <th>ind_nomina_ult1</th>\n      <th>ind_nom_pens_ult1</th>\n      <th>ind_recibo_ult1</th>\n    </tr>\n  </thead>\n  <tbody>\n    <tr>\n      <th>0</th>\n      <td>2015-01-28</td>\n      <td>1375586</td>\n      <td>N</td>\n      <td>ES</td>\n      <td>H</td>\n      <td>35</td>\n      <td>2015-01-12</td>\n      <td>0.0</td>\n      <td>6</td>\n      <td>1.0</td>\n      <td>...</td>\n      <td>0</td>\n      <td>0</td>\n      <td>0</td>\n      <td>0</td>\n      <td>0</td>\n      <td>0</td>\n      <td>0</td>\n      <td>0.0</td>\n      <td>0.0</td>\n      <td>0</td>\n    </tr>\n    <tr>\n      <th>1</th>\n      <td>2015-01-28</td>\n      <td>1050611</td>\n      <td>N</td>\n      <td>ES</td>\n      <td>V</td>\n      <td>23</td>\n      <td>2012-08-10</td>\n      <td>0.0</td>\n      <td>35</td>\n      <td>1.0</td>\n      <td>...</td>\n      <td>0</td>\n      <td>0</td>\n      <td>0</td>\n      <td>0</td>\n      <td>0</td>\n      <td>0</td>\n      <td>0</td>\n      <td>0.0</td>\n      <td>0.0</td>\n      <td>0</td>\n    </tr>\n    <tr>\n      <th>2</th>\n      <td>2015-01-28</td>\n      <td>1050612</td>\n      <td>N</td>\n      <td>ES</td>\n      <td>V</td>\n      <td>23</td>\n      <td>2012-08-10</td>\n      <td>0.0</td>\n      <td>35</td>\n      <td>1.0</td>\n      <td>...</td>\n      <td>0</td>\n      <td>0</td>\n      <td>0</td>\n      <td>0</td>\n      <td>0</td>\n      <td>0</td>\n      <td>0</td>\n      <td>0.0</td>\n      <td>0.0</td>\n      <td>0</td>\n    </tr>\n    <tr>\n      <th>3</th>\n      <td>2015-01-28</td>\n      <td>1050613</td>\n      <td>N</td>\n      <td>ES</td>\n      <td>H</td>\n      <td>22</td>\n      <td>2012-08-10</td>\n      <td>0.0</td>\n      <td>35</td>\n      <td>1.0</td>\n      <td>...</td>\n      <td>0</td>\n      <td>0</td>\n      <td>0</td>\n      <td>0</td>\n      <td>0</td>\n      <td>0</td>\n      <td>0</td>\n      <td>0.0</td>\n      <td>0.0</td>\n      <td>0</td>\n    </tr>\n    <tr>\n      <th>4</th>\n      <td>2015-01-28</td>\n      <td>1050614</td>\n      <td>N</td>\n      <td>ES</td>\n      <td>V</td>\n      <td>23</td>\n      <td>2012-08-10</td>\n      <td>0.0</td>\n      <td>35</td>\n      <td>1.0</td>\n      <td>...</td>\n      <td>0</td>\n      <td>0</td>\n      <td>0</td>\n      <td>0</td>\n      <td>0</td>\n      <td>0</td>\n      <td>0</td>\n      <td>0.0</td>\n      <td>0.0</td>\n      <td>0</td>\n    </tr>\n    <tr>\n      <th>5</th>\n      <td>2015-01-28</td>\n      <td>1050615</td>\n      <td>N</td>\n      <td>ES</td>\n      <td>H</td>\n      <td>23</td>\n      <td>2012-08-10</td>\n      <td>0.0</td>\n      <td>35</td>\n      <td>1.0</td>\n      <td>...</td>\n      <td>0</td>\n      <td>0</td>\n      <td>0</td>\n      <td>0</td>\n      <td>0</td>\n      <td>0</td>\n      <td>0</td>\n      <td>0.0</td>\n      <td>0.0</td>\n      <td>0</td>\n    </tr>\n    <tr>\n      <th>6</th>\n      <td>2015-01-28</td>\n      <td>1050616</td>\n      <td>N</td>\n      <td>ES</td>\n      <td>H</td>\n      <td>23</td>\n      <td>2012-08-10</td>\n      <td>0.0</td>\n      <td>35</td>\n      <td>1.0</td>\n      <td>...</td>\n      <td>0</td>\n      <td>0</td>\n      <td>0</td>\n      <td>0</td>\n      <td>0</td>\n      <td>0</td>\n      <td>0</td>\n      <td>0.0</td>\n      <td>0.0</td>\n      <td>0</td>\n    </tr>\n    <tr>\n      <th>7</th>\n      <td>2015-01-28</td>\n      <td>1050617</td>\n      <td>N</td>\n      <td>ES</td>\n      <td>H</td>\n      <td>23</td>\n      <td>2012-08-10</td>\n      <td>0.0</td>\n      <td>35</td>\n      <td>1.0</td>\n      <td>...</td>\n      <td>0</td>\n      <td>0</td>\n      <td>0</td>\n      <td>0</td>\n      <td>0</td>\n      <td>0</td>\n      <td>0</td>\n      <td>0.0</td>\n      <td>0.0</td>\n      <td>0</td>\n    </tr>\n    <tr>\n      <th>8</th>\n      <td>2015-01-28</td>\n      <td>1050619</td>\n      <td>N</td>\n      <td>ES</td>\n      <td>H</td>\n      <td>24</td>\n      <td>2012-08-10</td>\n      <td>0.0</td>\n      <td>35</td>\n      <td>1.0</td>\n      <td>...</td>\n      <td>0</td>\n      <td>0</td>\n      <td>0</td>\n      <td>0</td>\n      <td>0</td>\n      <td>0</td>\n      <td>0</td>\n      <td>0.0</td>\n      <td>0.0</td>\n      <td>0</td>\n    </tr>\n    <tr>\n      <th>9</th>\n      <td>2015-01-28</td>\n      <td>1050620</td>\n      <td>N</td>\n      <td>ES</td>\n      <td>H</td>\n      <td>23</td>\n      <td>2012-08-10</td>\n      <td>0.0</td>\n      <td>35</td>\n      <td>1.0</td>\n      <td>...</td>\n      <td>0</td>\n      <td>0</td>\n      <td>0</td>\n      <td>0</td>\n      <td>0</td>\n      <td>0</td>\n      <td>0</td>\n      <td>0.0</td>\n      <td>0.0</td>\n      <td>0</td>\n    </tr>\n  </tbody>\n</table>\n<p>10 rows × 48 columns</p>\n</div>"
          },
          "metadata": {}
        }
      ]
    }
  ]
}