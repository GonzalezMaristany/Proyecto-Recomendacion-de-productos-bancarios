{
  "metadata": {
    "kernelspec": {
      "language": "python",
      "display_name": "Python 3",
      "name": "python3"
    },
    "language_info": {
      "name": "python",
      "version": "3.7.12",
      "mimetype": "text/x-python",
      "codemirror_mode": {
        "name": "ipython",
        "version": 3
      },
      "pygments_lexer": "ipython3",
      "nbconvert_exporter": "python",
      "file_extension": ".py"
    },
    "colab": {
      "provenance": []
    }
  },
  "nbformat_minor": 0,
  "nbformat": 4,
  "cells": [
    {
      "cell_type": "markdown",
      "source": [
        "> # # **PROYECTO: RECOMENDACIÓN DE PRODUCTOS BANCARIOS A CLIENTES**"
      ],
      "metadata": {
        "id": "5IuC3ViBQmNY"
      }
    },
    {
      "cell_type": "markdown",
      "source": [
        "![](http://upload.wikimedia.org/wikipedia/commons/thumb/4/42/Santander_Argentina_Logo.png/1200px-Santander_Argentina_Logo.png)\n"
      ],
      "metadata": {
        "id": "lqHBzXbMQmNb"
      }
    },
    {
      "cell_type": "markdown",
      "source": [
        "> # **EQUIPO DE TRABAJO**\n",
        "![](https://encrypted-tbn0.gstatic.com/images?q=tbn:ANd9GcQh9_i7yEc-BPq9RSjtEBNgZ4rV-rnYWPhVu3Vvoik6lCsJ8372Bm_iF1ovcYv85Mm8o98&usqp=CAU)\n",
        "\n",
        "# *  Magalí Estefanía Gonzalez\n",
        "# * Héctor Guillermo Maristany"
      ],
      "metadata": {
        "id": "qbNy_5jRQmNc"
      }
    },
    {
      "cell_type": "markdown",
      "source": [
        "> # **TABLA DE CONTENIDOS**\n",
        "![](data:image/png;base64,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)"
      ],
      "metadata": {
        "id": "atfF4ooUQmNc"
      }
    },
    {
      "cell_type": "markdown",
      "source": [
        "# > **SECCIÓN 1: INTRODUCCIÓN**\n",
        "> * **1.1 Abstracto de motivación**\n",
        "> * **1.2 Audiencia**\n",
        "> * **1.3 Contecto comercial**\n",
        "> * **1.4 Problema comercial**\n",
        "> * **1.5 Contexto analítico**\n",
        "# > **SECCIÓN 2: DATA ADQUISITION**\n",
        "> * **2.1 Importación de librerías**\n",
        "> * **2.2 Lectura del Dataset**\n",
        "# > **SECCIÓN 3: ANÁLISIS EXPLORATORIO DE DATOS (EDA)**\n",
        "> * **3.1 Análisis general de datos del Dataset**\n",
        "> * **3.2 Estadística descriptiva**\n",
        "> * **3.3 Usando Pandas Profiling**\n",
        "> * **3.4 Resumen numérico de variables**\n",
        "> * **3.5 Análisis univariado**\n",
        "> * **3.6 Análisis bivariado**\n",
        "> * **3.7 Análisis multivariado**\n",
        "# > **SECCIÓN 4: DATA WRANGLING**\n",
        "> * **4.1 Identificación de valores duplicados**\n",
        "> * **4.2 Identificación y limpieza de valores nulos**\n",
        "> * **4.3 Tranformación de los datos**\n",
        "> * **4.4 Limpieza de outliers**\n",
        "> * **4.5 Correlación de variables del dataset limpio y transformado**\n",
        "# > **SECCIÓN 5: FEATURE SELECTION**\n",
        "# > **SECCIÓN 6: DESARROLLANDO UN MODELO DE MACHINE LEARNING**\n",
        "> * **6.1 Comparación de los cinco modelos**\n",
        "> * **6.2 Multinomial Naive Bayes**\n",
        "> * **6.2.1 Evaluación de métricas obtenidas**\n",
        "> * **6.2.2 Ajuste de hiperparámetros para mejorar el modelo**\n",
        "> * **6.3 XGBoost**\n",
        "> * **6.3.1 Evaluación de métricas obtenidas**\n",
        "> * **6.3.2 Ajuste de hiperparámetros para mejorar el modelo**\n",
        "> * **6.3.3 Permutation Importance**\n",
        "> * **6.3.4 Cross-validation**\n",
        "# > **SECCIÓN 7: CONCLUSION Y FUTURAS LINEAS**\n",
        "> * **7.1 Conclusión**\n",
        "> * **7.2 Futuras líneas**"
      ],
      "metadata": {
        "id": "SLysgE1VQmNd"
      }
    },
    {
      "cell_type": "markdown",
      "source": [
        "**Link a GitHub:** ![images.png](data:image/png;base64,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)\n",
        "\n",
        "**https://github.com/GonzalezMaristany/Proyecto-Recomendacion-de-productos-bancarios**"
      ],
      "metadata": {
        "id": "O9_2PmNpRLJv"
      }
    },
    {
      "cell_type": "markdown",
      "source": [
        "# ***Comencemos...***"
      ],
      "metadata": {
        "id": "ZxiLQj9VRif8"
      }
    },
    {
      "cell_type": "markdown",
      "source": [
        "# **Sección 1: Introducción:**\n",
        "![](https://encrypted-tbn0.gstatic.com/images?q=tbn:ANd9GcQNQt27f23h4suywlTcPWMRtzileegyTfnqvDhKRMY4irdNghkgvxAq2uCwmuE_9FQ83q8&usqp=CAU)"
      ],
      "metadata": {
        "id": "KCw7liDerinz"
      }
    },
    {
      "cell_type": "markdown",
      "source": [
        "# **2.1 Abstracto de motivación:**"
      ],
      "metadata": {
        "id": "TMAnrqmiQl7h"
      }
    },
    {
      "cell_type": "markdown",
      "source": [
        "Decidimos abordar un problema de sistemas de recomendación en entidades financieras como una opción interesante para comenzar nuestro aprendizaje en ciencia de datos. En la actualidad, es un desafío para los clientes navegar por la cartera de productos bancarios y encontrar los que mejor se adapten a sus necesidades. Esta problemática es común en todos los bancos y requiere abordar desafíos como la escasez de datos, el desequilibrio de clases y la segmentación de clientes.\n",
        "\n",
        "Para este proyecto, elegimos el dataset del banco Santander de Kaggle. Esta base de datos es muy completa, con una gran diversidad de datos demográficos de clientes y de productos adquiridos para un período de tiempo representativo. Al seleccionar este dataset, buscamos trabajar dentro del ámbito bancario y abordar problemas que sean relevantes para el sector.\n"
      ],
      "metadata": {
        "id": "iMs85mwCrs-x"
      }
    },
    {
      "cell_type": "markdown",
      "source": [
        "# **2.2 Audiencia:**"
      ],
      "metadata": {
        "id": "fWpDCiS7r1Oq"
      }
    },
    {
      "cell_type": "markdown",
      "source": [
        "La complejidad del proceso de compra de productos financieros por parte de los clientes es una problemática común en las entidades bancarias. Con el objetivo de mejorar el sistema de recomendación y, por ende, la satisfacción y lealtad del cliente, así como el desempeño comercial de ingresos, hemos emprendido este proyecto.\n",
        "Este estudio está dirigido a los analistas del departamento de marketing de bancos, tanto locales como extranjeros, para brindarles una solución viable y efectiva que les permita abordar esta problemática. \n",
        "Esperamos poder desarrollar un sistema de recomendación que brinde a los clientes la mejor opción de productos financieros de acuerdo a sus necesidades y preferencias, lo que a su vez contribuirá a mejorar la eficiencia y eficacia del proceso de venta de productos financieros en los bancos.\n"
      ],
      "metadata": {
        "id": "VSCoPSeVr5Ac"
      }
    },
    {
      "cell_type": "markdown",
      "source": [
        "# **2.3 Objetivo:**"
      ],
      "metadata": {
        "id": "HNAwGky5QmNe"
      }
    },
    {
      "cell_type": "markdown",
      "source": [
        "El objetivo de este proyecto es mejorar el sistema de recomendación de productos financieros de un banco mediante la observación del comportamiento de compra de los clientes y la predicción de los nuevos productos que es probable que adquieran. Con un sistema más eficaz, se espera que el banco pueda satisfacer mejor las necesidades individuales de cada cliente, independientemente de la etapa de su vida en la que se encuentren, lo que a su vez podría generar una mayor satisfacción y fidelidad del cliente y un mejor desempeño comercial del banco."
      ],
      "metadata": {
        "id": "4faLLpA2QmNe"
      }
    },
    {
      "cell_type": "markdown",
      "source": [
        "# **2.4 Contexto comercial:**\n",
        "\n",
        "El Grupo Santander es una empresa multinacional española de servicios financieros que ofrece una amplia gama de productos y servicios, desde banca minorista hasta seguros y administración de fideicomisos. Con el objetivo de mejorar la experiencia del cliente, el banco busca mejorar su sistema de recomendación personalizado de productos, ya que el sistema actual no proporciona recomendaciones precisas para todos los clientes.\n",
        "\n",
        "Para lograr esto, se utilizará un sistema de recomendación basado en la recopilación de información de marketing y el seguimiento del comportamiento del usuario, como el historial de compras y la actividad de navegación, para modelar las preferencias del usuario. Esto permitirá que se proporcionen recomendaciones de productos personalizados que sean atractivos para el cliente, lo que a su vez puede mejorar el compromiso del cliente y lograr una mayor rentabilidad para el banco.\n",
        "\n",
        "En resumen, el Grupo Santander está interesado en mejorar su sistema de recomendación personalizado de productos para proporcionar a los clientes una experiencia más satisfactoria y rentable. La utilización de sistemas de recomendación basados en la recopilación de información de marketing y el seguimiento del comportamiento del usuario puede mejorar el compromiso del cliente y la rentabilidad del banco."
      ],
      "metadata": {
        "id": "cE0rpYiJQmNf"
      }
    },
    {
      "cell_type": "markdown",
      "source": [
        "# **2.5 Problema comercial:**\n",
        "\n",
        "El problema lo plantea el grupo Santander que para respaldar las necesidades de una variedad de decisiones financieras ayuda a sus clientes a través de recomendaciones personalizadas de productos.\n",
        "\n",
        "**La tarea es responder al siguiente problema: Predecir que productos utilizarán sus clientes actuales en el próximo mes en función de su comportamiento anterior y el de clientes similares.**\n",
        "\n",
        "Los datos históricos relacionados con la actividad pasada del consumidor se pueden utilizar para el modelado predictivo que captura atributos que pueden tener una gran influencia en la actividad futura del cliente. Esto abre el camino para que el departamento de marketing presente nuevas estrategias y campañas de marketing optimizadas, adaptadas a las necesidades del cliente, lo que a su vez mejora su experiencia. Esto reduce significativamente la tasa de abandono de clientes y aumenta el valor del tiempo de vida del mismo (LTV).\n",
        "\n",
        "Para ello nos concentraremos en preguntarnos sobre:\n",
        "\n",
        "* Que variables del set de datos son relevantes para el estudio.\n",
        "* Demostrar si hay correlación en el comportamiento de compra de los clientes con las diferentes variables recopiladas en el set de datos.\n",
        "* Cuáles son las transformaciones que consideraremos necesarias realizar para obtener nuestro dataset definitivo.\n",
        "* Generar observaciones o insights a partir de la data recopilada que permita reevaluar o mejorar el enfoque del departamento de marketing respecto a la recomendación de productos bancarios a los clientes.\n"
      ],
      "metadata": {
        "id": "_dR9aT-mQmNf"
      }
    },
    {
      "cell_type": "markdown",
      "source": [
        "# **Contexto analítico:**\n",
        "\n",
        "El equipo de marketing ha proporcionado una base de datos de 1.5 años de información demográfica de más de novecientos mil usuarios con su respectivo historial de adquisición de productos del banco. Se tiene registro de los datos desde 2015-01-28 hasta 2016-06-28. A partir de estos datos se pretende desarrollar un algoritmo de recomendación que utilice información previamente almacenada, de distintos clientes, para realizar predicciones sobre que productos los usuarios adicionarán a su catálogo el siguiente mes (20-06-2016) además de los que ya tenían el 28-05-2016.\n",
        "\n",
        "**Este problema se puede plantear como un problema de clasificación de salida múltiple donde la probabilidad de que un cliente compre un producto sería la salida.**\n",
        "\n",
        "Esto ayudará a Santander a canalizar sus ingresos publicitarios para utilizarlos de una manera más eficiente. Por ejemplo, un cliente 'soltero' de 25 años, probablemente quiera un préstamo personal para sus próximas vacaciones o para comprar una bicicleta de gama alta. El cliente 'casado' en los años 30 es más probable que compre un préstamo hipotecario o una tarjeta de crédito, y el cliente en los años 35-40 está más interesado en abrir una cuenta de pensión o cuentas de ahorro fiscal."
      ],
      "metadata": {
        "id": "yo7wABfBQmNg"
      }
    }
  ]
}