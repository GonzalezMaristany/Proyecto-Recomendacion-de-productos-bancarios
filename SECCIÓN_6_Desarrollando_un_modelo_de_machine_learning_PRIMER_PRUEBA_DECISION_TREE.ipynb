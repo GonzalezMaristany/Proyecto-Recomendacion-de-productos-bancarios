{
  "metadata": {
    "kernelspec": {
      "language": "python",
      "display_name": "Python 3",
      "name": "python3"
    },
    "language_info": {
      "name": "python",
      "version": "3.7.12",
      "mimetype": "text/x-python",
      "codemirror_mode": {
        "name": "ipython",
        "version": 3
      },
      "pygments_lexer": "ipython3",
      "nbconvert_exporter": "python",
      "file_extension": ".py"
    },
    "colab": {
      "provenance": []
    }
  },
  "nbformat_minor": 0,
  "nbformat": 4,
  "cells": [
    {
      "cell_type": "markdown",
      "source": [
        "> # # **PROYECTO: RECOMENDACIÓN DE PRODUCTOS BANCARIOS A CLIENTES**"
      ],
      "metadata": {
        "id": "maTYTqV3NTc5"
      }
    },
    {
      "cell_type": "markdown",
      "source": [
        "![](http://upload.wikimedia.org/wikipedia/commons/thumb/4/42/Santander_Argentina_Logo.png/1200px-Santander_Argentina_Logo.png)\n"
      ],
      "metadata": {
        "id": "s-ZavDWYNTc8"
      }
    },
    {
      "cell_type": "markdown",
      "source": [
        "> # **Sección 6: DASARROLANDO UN MODELO DE MACHINE LEARNING**\n",
        "![](https://cdn-icons-png.flaticon.com/512/2103/2103652.png)"
      ],
      "metadata": {
        "id": "Yt7hfOaXQJ9s"
      }
    },
    {
      "cell_type": "markdown",
      "source": [
        "# **PRIMER PRUEBA: MODELO DESICION TREE CLASSIFIER**\n",
        "![decision-tree-line-icon-outline-symbol-vector-43639638.jpg](data:image/jpeg;base64,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)"
      ],
      "metadata": {
        "id": "KclKHpHHQeOP"
      }
    },
    {
      "cell_type": "code",
      "source": [
        "#IMPORTACIÓN DE LIBRERIAS\n",
        "import os\n",
        "for dirname, _, filenames in os.walk('/kaggle/input'):\n",
        "    for filename in filenames:\n",
        "        print(os.path.join(dirname, filename))\n",
        "        \n",
        "# Tratamiento de datos\n",
        "import numpy as np                    \n",
        "import pandas as pd\n",
        "from prettytable import PrettyTable\n",
        "import warnings\n",
        "# Gráficos\n",
        "import matplotlib as mpl              # Importar MatPlotLib\n",
        "import matplotlib.pyplot as plt       # El modulo Pyplot de Matplotlib\n",
        "import seaborn as sns                 # Importar Seaborn\n",
        "#from sklearn.preprocessing import scale\n",
        "from sklearn import preprocessing  # Import label encoder\n",
        "from sklearn.impute import SimpleImputer\n",
        "from sklearn.model_selection import train_test_split #para separar en train y test\n",
        "from sklearn.datasets import make_classification\n",
        "from sklearn.decomposition import PCA\n",
        "from sklearn.decomposition import IncrementalPCA\n",
        "from sklearn.preprocessing import StandardScaler\n",
        "# Modelos de Clasificacion:\n",
        "# RANDOM FOREST\n",
        "from sklearn.ensemble import RandomForestClassifier\n",
        "# XGBOOST\n",
        "import xgboost \n",
        "from xgboost import XGBClassifier\n",
        "from xgboost import plot_importance\n",
        "# Métricas\n",
        "from sklearn import metrics\n",
        "from sklearn.metrics import accuracy_score\n",
        "from sklearn.metrics import confusion_matrix\n",
        "from sklearn.metrics import precision_score\n",
        "from sklearn.metrics import recall_score\n",
        "from sklearn.model_selection import cross_val_score\n",
        "from sklearn.metrics import classification_report\n",
        "from sklearn.metrics import jaccard_score\n",
        "from sklearn.metrics import precision_score\n",
        "from sklearn.metrics import recall_score\n",
        "from sklearn.metrics import f1_score\n",
        "print('¡Librerías importadas con éxito!')"
      ],
      "metadata": {
        "id": "eabR06HCNTdC",
        "outputId": "03df083f-51a3-4292-db8a-f9feb440e119",
        "execution": {
          "iopub.status.busy": "2023-03-12T20:03:39.549289Z",
          "iopub.execute_input": "2023-03-12T20:03:39.549847Z",
          "iopub.status.idle": "2023-03-12T20:03:41.443128Z",
          "shell.execute_reply.started": "2023-03-12T20:03:39.549731Z",
          "shell.execute_reply": "2023-03-12T20:03:41.441675Z"
        },
        "trusted": true
      },
      "execution_count": null,
      "outputs": [
        {
          "name": "stdout",
          "text": "/kaggle/input/santander-product-recommendation/test_ver2.csv.zip\n/kaggle/input/santander-product-recommendation/sample_submission.csv.zip\n/kaggle/input/santander-product-recommendation/train_ver2.csv.zip\n¡Librerías importadas con éxito!\n",
          "output_type": "stream"
        }
      ]
    },
    {
      "cell_type": "code",
      "source": [
        "#Lectura de dataset (archivo csv)\n",
        "clientes = pd.read_csv('/kaggle/input/santander-product-recommendation/train_ver2.csv.zip', header=0)\n",
        "# Muestra de las diez primeras filas del dataset\n",
        "clientes.head(10)"
      ],
      "metadata": {
        "id": "fcMUEbtKNTdD",
        "outputId": "d58f081d-56f2-40e4-9901-0dad7f256f55",
        "execution": {
          "iopub.status.busy": "2023-03-12T18:27:39.440049Z",
          "iopub.execute_input": "2023-03-12T18:27:39.440500Z",
          "iopub.status.idle": "2023-03-12T18:28:55.853968Z",
          "shell.execute_reply.started": "2023-03-12T18:27:39.440460Z",
          "shell.execute_reply": "2023-03-12T18:28:55.852822Z"
        },
        "trusted": true
      },
      "execution_count": null,
      "outputs": [
        {
          "name": "stderr",
          "text": "/opt/conda/lib/python3.7/site-packages/IPython/core/interactiveshell.py:3552: DtypeWarning: Columns (5,8,11,15) have mixed types.Specify dtype option on import or set low_memory=False.\n  exec(code_obj, self.user_global_ns, self.user_ns)\n",
          "output_type": "stream"
        },
        {
          "execution_count": 2,
          "output_type": "execute_result",
          "data": {
            "text/plain": "   fecha_dato  ncodpers ind_empleado pais_residencia sexo  age  fecha_alta  \\\n0  2015-01-28   1375586            N              ES    H   35  2015-01-12   \n1  2015-01-28   1050611            N              ES    V   23  2012-08-10   \n2  2015-01-28   1050612            N              ES    V   23  2012-08-10   \n3  2015-01-28   1050613            N              ES    H   22  2012-08-10   \n4  2015-01-28   1050614            N              ES    V   23  2012-08-10   \n5  2015-01-28   1050615            N              ES    H   23  2012-08-10   \n6  2015-01-28   1050616            N              ES    H   23  2012-08-10   \n7  2015-01-28   1050617            N              ES    H   23  2012-08-10   \n8  2015-01-28   1050619            N              ES    H   24  2012-08-10   \n9  2015-01-28   1050620            N              ES    H   23  2012-08-10   \n\n   ind_nuevo antiguedad  indrel  ... ind_hip_fin_ult1 ind_plan_fin_ult1  \\\n0        0.0          6     1.0  ...                0                 0   \n1        0.0         35     1.0  ...                0                 0   \n2        0.0         35     1.0  ...                0                 0   \n3        0.0         35     1.0  ...                0                 0   \n4        0.0         35     1.0  ...                0                 0   \n5        0.0         35     1.0  ...                0                 0   \n6        0.0         35     1.0  ...                0                 0   \n7        0.0         35     1.0  ...                0                 0   \n8        0.0         35     1.0  ...                0                 0   \n9        0.0         35     1.0  ...                0                 0   \n\n  ind_pres_fin_ult1 ind_reca_fin_ult1 ind_tjcr_fin_ult1 ind_valo_fin_ult1  \\\n0                 0                 0                 0                 0   \n1                 0                 0                 0                 0   \n2                 0                 0                 0                 0   \n3                 0                 0                 0                 0   \n4                 0                 0                 0                 0   \n5                 0                 0                 0                 0   \n6                 0                 0                 0                 0   \n7                 0                 0                 0                 0   \n8                 0                 0                 0                 0   \n9                 0                 0                 0                 0   \n\n  ind_viv_fin_ult1 ind_nomina_ult1  ind_nom_pens_ult1  ind_recibo_ult1  \n0                0             0.0                0.0                0  \n1                0             0.0                0.0                0  \n2                0             0.0                0.0                0  \n3                0             0.0                0.0                0  \n4                0             0.0                0.0                0  \n5                0             0.0                0.0                0  \n6                0             0.0                0.0                0  \n7                0             0.0                0.0                0  \n8                0             0.0                0.0                0  \n9                0             0.0                0.0                0  \n\n[10 rows x 48 columns]",
            "text/html": "<div>\n<style scoped>\n    .dataframe tbody tr th:only-of-type {\n        vertical-align: middle;\n    }\n\n    .dataframe tbody tr th {\n        vertical-align: top;\n    }\n\n    .dataframe thead th {\n        text-align: right;\n    }\n</style>\n<table border=\"1\" class=\"dataframe\">\n  <thead>\n    <tr style=\"text-align: right;\">\n      <th></th>\n      <th>fecha_dato</th>\n      <th>ncodpers</th>\n      <th>ind_empleado</th>\n      <th>pais_residencia</th>\n      <th>sexo</th>\n      <th>age</th>\n      <th>fecha_alta</th>\n      <th>ind_nuevo</th>\n      <th>antiguedad</th>\n      <th>indrel</th>\n      <th>...</th>\n      <th>ind_hip_fin_ult1</th>\n      <th>ind_plan_fin_ult1</th>\n      <th>ind_pres_fin_ult1</th>\n      <th>ind_reca_fin_ult1</th>\n      <th>ind_tjcr_fin_ult1</th>\n      <th>ind_valo_fin_ult1</th>\n      <th>ind_viv_fin_ult1</th>\n      <th>ind_nomina_ult1</th>\n      <th>ind_nom_pens_ult1</th>\n      <th>ind_recibo_ult1</th>\n    </tr>\n  </thead>\n  <tbody>\n    <tr>\n      <th>0</th>\n      <td>2015-01-28</td>\n      <td>1375586</td>\n      <td>N</td>\n      <td>ES</td>\n      <td>H</td>\n      <td>35</td>\n      <td>2015-01-12</td>\n      <td>0.0</td>\n      <td>6</td>\n      <td>1.0</td>\n      <td>...</td>\n      <td>0</td>\n      <td>0</td>\n      <td>0</td>\n      <td>0</td>\n      <td>0</td>\n      <td>0</td>\n      <td>0</td>\n      <td>0.0</td>\n      <td>0.0</td>\n      <td>0</td>\n    </tr>\n    <tr>\n      <th>1</th>\n      <td>2015-01-28</td>\n      <td>1050611</td>\n      <td>N</td>\n      <td>ES</td>\n      <td>V</td>\n      <td>23</td>\n      <td>2012-08-10</td>\n      <td>0.0</td>\n      <td>35</td>\n      <td>1.0</td>\n      <td>...</td>\n      <td>0</td>\n      <td>0</td>\n      <td>0</td>\n      <td>0</td>\n      <td>0</td>\n      <td>0</td>\n      <td>0</td>\n      <td>0.0</td>\n      <td>0.0</td>\n      <td>0</td>\n    </tr>\n    <tr>\n      <th>2</th>\n      <td>2015-01-28</td>\n      <td>1050612</td>\n      <td>N</td>\n      <td>ES</td>\n      <td>V</td>\n      <td>23</td>\n      <td>2012-08-10</td>\n      <td>0.0</td>\n      <td>35</td>\n      <td>1.0</td>\n      <td>...</td>\n      <td>0</td>\n      <td>0</td>\n      <td>0</td>\n      <td>0</td>\n      <td>0</td>\n      <td>0</td>\n      <td>0</td>\n      <td>0.0</td>\n      <td>0.0</td>\n      <td>0</td>\n    </tr>\n    <tr>\n      <th>3</th>\n      <td>2015-01-28</td>\n      <td>1050613</td>\n      <td>N</td>\n      <td>ES</td>\n      <td>H</td>\n      <td>22</td>\n      <td>2012-08-10</td>\n      <td>0.0</td>\n      <td>35</td>\n      <td>1.0</td>\n      <td>...</td>\n      <td>0</td>\n      <td>0</td>\n      <td>0</td>\n      <td>0</td>\n      <td>0</td>\n      <td>0</td>\n      <td>0</td>\n      <td>0.0</td>\n      <td>0.0</td>\n      <td>0</td>\n    </tr>\n    <tr>\n      <th>4</th>\n      <td>2015-01-28</td>\n      <td>1050614</td>\n      <td>N</td>\n      <td>ES</td>\n      <td>V</td>\n      <td>23</td>\n      <td>2012-08-10</td>\n      <td>0.0</td>\n      <td>35</td>\n      <td>1.0</td>\n      <td>...</td>\n      <td>0</td>\n      <td>0</td>\n      <td>0</td>\n      <td>0</td>\n      <td>0</td>\n      <td>0</td>\n      <td>0</td>\n      <td>0.0</td>\n      <td>0.0</td>\n      <td>0</td>\n    </tr>\n    <tr>\n      <th>5</th>\n      <td>2015-01-28</td>\n      <td>1050615</td>\n      <td>N</td>\n      <td>ES</td>\n      <td>H</td>\n      <td>23</td>\n      <td>2012-08-10</td>\n      <td>0.0</td>\n      <td>35</td>\n      <td>1.0</td>\n      <td>...</td>\n      <td>0</td>\n      <td>0</td>\n      <td>0</td>\n      <td>0</td>\n      <td>0</td>\n      <td>0</td>\n      <td>0</td>\n      <td>0.0</td>\n      <td>0.0</td>\n      <td>0</td>\n    </tr>\n    <tr>\n      <th>6</th>\n      <td>2015-01-28</td>\n      <td>1050616</td>\n      <td>N</td>\n      <td>ES</td>\n      <td>H</td>\n      <td>23</td>\n      <td>2012-08-10</td>\n      <td>0.0</td>\n      <td>35</td>\n      <td>1.0</td>\n      <td>...</td>\n      <td>0</td>\n      <td>0</td>\n      <td>0</td>\n      <td>0</td>\n      <td>0</td>\n      <td>0</td>\n      <td>0</td>\n      <td>0.0</td>\n      <td>0.0</td>\n      <td>0</td>\n    </tr>\n    <tr>\n      <th>7</th>\n      <td>2015-01-28</td>\n      <td>1050617</td>\n      <td>N</td>\n      <td>ES</td>\n      <td>H</td>\n      <td>23</td>\n      <td>2012-08-10</td>\n      <td>0.0</td>\n      <td>35</td>\n      <td>1.0</td>\n      <td>...</td>\n      <td>0</td>\n      <td>0</td>\n      <td>0</td>\n      <td>0</td>\n      <td>0</td>\n      <td>0</td>\n      <td>0</td>\n      <td>0.0</td>\n      <td>0.0</td>\n      <td>0</td>\n    </tr>\n    <tr>\n      <th>8</th>\n      <td>2015-01-28</td>\n      <td>1050619</td>\n      <td>N</td>\n      <td>ES</td>\n      <td>H</td>\n      <td>24</td>\n      <td>2012-08-10</td>\n      <td>0.0</td>\n      <td>35</td>\n      <td>1.0</td>\n      <td>...</td>\n      <td>0</td>\n      <td>0</td>\n      <td>0</td>\n      <td>0</td>\n      <td>0</td>\n      <td>0</td>\n      <td>0</td>\n      <td>0.0</td>\n      <td>0.0</td>\n      <td>0</td>\n    </tr>\n    <tr>\n      <th>9</th>\n      <td>2015-01-28</td>\n      <td>1050620</td>\n      <td>N</td>\n      <td>ES</td>\n      <td>H</td>\n      <td>23</td>\n      <td>2012-08-10</td>\n      <td>0.0</td>\n      <td>35</td>\n      <td>1.0</td>\n      <td>...</td>\n      <td>0</td>\n      <td>0</td>\n      <td>0</td>\n      <td>0</td>\n      <td>0</td>\n      <td>0</td>\n      <td>0</td>\n      <td>0.0</td>\n      <td>0.0</td>\n      <td>0</td>\n    </tr>\n  </tbody>\n</table>\n<p>10 rows × 48 columns</p>\n</div>"
          },
          "metadata": {}
        }
      ]
    },
    {
      "cell_type": "markdown",
      "source": [
        "> **Limpieza de nulos**\n",
        "![](https://encrypted-tbn0.gstatic.com/images?q=tbn:ANd9GcSoANHyQoQEO-vvL7KOkisWsVBvhBIAmDbydWuBeLk7Oc3v1TENE-h79JZQ_BZuT3CmY7Q&usqp=CAU)"
      ],
      "metadata": {
        "id": "OmzlhN9HNTeG"
      }
    },
    {
      "cell_type": "code",
      "source": [
        "# columnas conyuemp y ult_fec_cli_1t\n",
        "clientes.drop(['conyuemp', 'ult_fec_cli_1t'],axis=1, inplace=True)\n",
        "# columna renta\n",
        "clientes.loc[clientes[\"renta\"].isnull(),\"renta\"] = np.nanmedian(clientes.renta)\n",
        "# columna segmento\n",
        "clientes.loc[clientes[\"segmento\"].isnull(),\"segmento\"] = '02 - PARTICULARES'\n",
        "# columna canal_entrada\n",
        "clientes.loc[clientes[\"canal_entrada\"].isnull(),\"canal_entrada\"] = 'KHE'\n",
        "# columna indrel_1mes\n",
        "clientes[\"indrel_1mes\"] = clientes[\"indrel_1mes\"].map(lambda x: 5.0 if x == \"P\" else x).astype(float).fillna(0.0).astype(np.int8)\n",
        "# columna tiprel_1mes\n",
        "clientes.loc[clientes[\"tiprel_1mes\"].isnull(),\"tiprel_1mes\"] = 'I'\n",
        "# columna nomprov\n",
        "clientes.loc[clientes[\"nomprov\"].isnull(),\"nomprov\"] = 'MADRID'\n",
        "# columna cod_prov\n",
        "clientes.drop(['cod_prov'],axis=1, inplace=True)\n",
        "# columna sexo\n",
        "clientes.loc[clientes[\"sexo\"].isnull(),\"sexo\"] = 'V'\n",
        "# columna tipodom\n",
        "clientes.drop(['tipodom'],axis=1, inplace=True)\n",
        "#columna indfall\n",
        "clientes[\"indfall\"].fillna('N', inplace=True)\n",
        "# columna indext\n",
        "clientes[\"indext\"].fillna('N', inplace=True)\n",
        "# columna ind_actividad_cliente\n",
        "clientes[\"ind_actividad_cliente\"].fillna(0.0, inplace=True)\n",
        "# columna indresi\n",
        "clientes[\"indresi\"].fillna('S', inplace=True)\n",
        "# columna indrel\n",
        "clientes[\"indrel\"].fillna(1.0, inplace=True)\n",
        "# columna ind_nuevo\n",
        "clientes[\"ind_nuevo\"].fillna(0.0, inplace=True)\n",
        "# columna fecha_alta\n",
        "cust_ids = clientes[clientes.fecha_alta.isnull()]['ncodpers']\n",
        "tmp = clientes[clientes.ncodpers.isin(cust_ids)].groupby(['ncodpers', 'fecha_dato']).size().to_frame()\n",
        "tmp.reset_index(level=[0,1], inplace=True)\n",
        "tmp.columns=['ncodpers', 'fecha_dato','Count']\n",
        "tmp.drop(columns='Count', inplace=True)\n",
        "tmp = tmp.join(tmp.groupby('ncodpers')['fecha_dato'].agg(['min', 'max']), on='ncodpers')\n",
        "tmp.drop(['fecha_dato'], axis = 1, inplace=True)\n",
        "tmp.drop_duplicates(keep='first', inplace=True)\n",
        "tmp.rename(index=str, columns={\"ncodpers\": \"ncodpers\", \"min\": \"Min_fecha_dato\", \"max\":\"Max_fecha_dato\"}, inplace=True)\n",
        "# columna fecha_alta\n",
        "clientes = clientes.merge(tmp, on='ncodpers', how = 'outer')\n",
        "clientes.loc[clientes.fecha_alta.isnull(), 'fecha_alta'] = clientes.Min_fecha_dato\n",
        "clientes.drop(columns=['Min_fecha_dato', 'Max_fecha_dato'], inplace=True)\n",
        "# columna pais_residencia\n",
        "clientes.loc[clientes[\"pais_residencia\"].isnull(),\"pais_residencia\"] = 'ES'\n",
        "# columna ind_empleado\n",
        "clientes.loc[clientes[\"ind_empleado\"].isnull(),\"ind_empleado\"] = \"N\"\n",
        "# columnas ind_nomina_ult1 y ind_nom_pens_ult1\n",
        "clientes[\"ind_nomina_ult1\"].fillna(0.0, inplace=True)\n",
        "clientes[\"ind_nom_pens_ult1\"].fillna(0.0, inplace=True)"
      ],
      "metadata": {
        "id": "QQCPT5qPNTeG",
        "execution": {
          "iopub.status.busy": "2023-03-12T18:29:02.234137Z",
          "iopub.execute_input": "2023-03-12T18:29:02.234866Z",
          "iopub.status.idle": "2023-03-12T18:30:33.952471Z",
          "shell.execute_reply.started": "2023-03-12T18:29:02.234828Z",
          "shell.execute_reply": "2023-03-12T18:30:33.951282Z"
        },
        "trusted": true
      },
      "execution_count": null,
      "outputs": []
    },
    {
      "cell_type": "code",
      "source": [
        "#se exporta a csv el dataset limpio\n",
        "clientes.to_csv('clientes_limpio.csv',header=True,index=False)\n"
      ],
      "metadata": {
        "id": "FHJ1CZ4kNTeG",
        "execution": {
          "iopub.status.busy": "2023-03-12T18:30:48.508274Z",
          "iopub.execute_input": "2023-03-12T18:30:48.508715Z",
          "iopub.status.idle": "2023-03-12T18:33:19.974572Z",
          "shell.execute_reply.started": "2023-03-12T18:30:48.508680Z",
          "shell.execute_reply": "2023-03-12T18:33:19.973626Z"
        },
        "trusted": true
      },
      "execution_count": null,
      "outputs": []
    },
    {
      "cell_type": "markdown",
      "source": [
        "**TRANSFORMACIÓN DE LOS DATOS**\n",
        "![](https://encrypted-tbn0.gstatic.com/images?q=tbn:ANd9GcQE1caNP74mF0LDe06F6GamNL0kF_YSLtvk2w&usqp=CAU)"
      ],
      "metadata": {
        "id": "sdjelB-5NTeG"
      }
    },
    {
      "cell_type": "code",
      "source": [
        "clientes_limpio=pd.read_csv('clientes_limpio.csv', header=0)\n",
        "clientes_limpio.info()"
      ],
      "metadata": {
        "id": "av_afiGmNTeG",
        "outputId": "9233c4f5-4d84-4457-a9cc-d02b93bb6801",
        "execution": {
          "iopub.status.busy": "2023-03-12T18:49:38.670934Z",
          "iopub.execute_input": "2023-03-12T18:49:38.671458Z",
          "iopub.status.idle": "2023-03-12T18:50:33.168084Z",
          "shell.execute_reply.started": "2023-03-12T18:49:38.671420Z",
          "shell.execute_reply": "2023-03-12T18:50:33.166527Z"
        },
        "trusted": true
      },
      "execution_count": null,
      "outputs": [
        {
          "name": "stdout",
          "text": "<class 'pandas.core.frame.DataFrame'>\nRangeIndex: 13647309 entries, 0 to 13647308\nData columns (total 44 columns):\n #   Column                 Dtype  \n---  ------                 -----  \n 0   fecha_dato             object \n 1   ncodpers               int64  \n 2   ind_empleado           object \n 3   pais_residencia        object \n 4   sexo                   object \n 5   age                    object \n 6   fecha_alta             object \n 7   ind_nuevo              float64\n 8   antiguedad             object \n 9   indrel                 float64\n 10  indrel_1mes            int64  \n 11  tiprel_1mes            object \n 12  indresi                object \n 13  indext                 object \n 14  canal_entrada          object \n 15  indfall                object \n 16  nomprov                object \n 17  ind_actividad_cliente  float64\n 18  renta                  float64\n 19  segmento               object \n 20  ind_ahor_fin_ult1      int64  \n 21  ind_aval_fin_ult1      int64  \n 22  ind_cco_fin_ult1       int64  \n 23  ind_cder_fin_ult1      int64  \n 24  ind_cno_fin_ult1       int64  \n 25  ind_ctju_fin_ult1      int64  \n 26  ind_ctma_fin_ult1      int64  \n 27  ind_ctop_fin_ult1      int64  \n 28  ind_ctpp_fin_ult1      int64  \n 29  ind_deco_fin_ult1      int64  \n 30  ind_deme_fin_ult1      int64  \n 31  ind_dela_fin_ult1      int64  \n 32  ind_ecue_fin_ult1      int64  \n 33  ind_fond_fin_ult1      int64  \n 34  ind_hip_fin_ult1       int64  \n 35  ind_plan_fin_ult1      int64  \n 36  ind_pres_fin_ult1      int64  \n 37  ind_reca_fin_ult1      int64  \n 38  ind_tjcr_fin_ult1      int64  \n 39  ind_valo_fin_ult1      int64  \n 40  ind_viv_fin_ult1       int64  \n 41  ind_nomina_ult1        float64\n 42  ind_nom_pens_ult1      float64\n 43  ind_recibo_ult1        int64  \ndtypes: float64(6), int64(24), object(14)\nmemory usage: 4.5+ GB\n",
          "output_type": "stream"
        }
      ]
    },
    {
      "cell_type": "markdown",
      "source": [
        "**El Dataset incluye valores atípicos en la columna edad. Por lo tanto se eliminan los datos correspondientes a edad <15 y edad>100 ya que no recomendaremos ningún paquete de producto para alguien cuya edad este en dichos rangos.**"
      ],
      "metadata": {
        "id": "VwhU968TNTeH"
      }
    },
    {
      "cell_type": "code",
      "source": [
        "clientes_limpio['age']=pd.to_numeric(clientes_limpio.age,errors='coerce')\n",
        "#columna age\n",
        "clientes_limpio = clientes_limpio[((clientes_limpio[\"age\"] > 15) & (clientes_limpio[\"age\"] < 100))]"
      ],
      "metadata": {
        "id": "VcFflz6ZNTeH",
        "execution": {
          "iopub.status.busy": "2023-03-12T18:50:38.489075Z",
          "iopub.execute_input": "2023-03-12T18:50:38.489551Z",
          "iopub.status.idle": "2023-03-12T18:50:53.730017Z",
          "shell.execute_reply.started": "2023-03-12T18:50:38.489514Z",
          "shell.execute_reply": "2023-03-12T18:50:53.728794Z"
        },
        "trusted": true
      },
      "execution_count": null,
      "outputs": []
    },
    {
      "cell_type": "markdown",
      "source": [
        "**Ahora eliminamos estas columnas porque tienen menos posibilidades de ser elegidos entre los 7 mejores productos recomendados porque, como se vio anteriormente en la sección de exploración y visualización de datos, ningún cliente adoptó estos 2 productos.**"
      ],
      "metadata": {
        "id": "ZjNgDupyNTeH"
      }
    },
    {
      "cell_type": "code",
      "source": [
        "#columnas ind_ahor_fin_ult1 e ind_aval_fin_ult1\n",
        "clientes_limpio.drop(columns=['ind_ahor_fin_ult1', 'ind_aval_fin_ult1'],inplace = True)"
      ],
      "metadata": {
        "id": "G0VhauxsNTeH",
        "execution": {
          "iopub.status.busy": "2023-03-12T18:51:02.014634Z",
          "iopub.execute_input": "2023-03-12T18:51:02.015041Z",
          "iopub.status.idle": "2023-03-12T18:51:05.705288Z",
          "shell.execute_reply.started": "2023-03-12T18:51:02.015011Z",
          "shell.execute_reply": "2023-03-12T18:51:05.703656Z"
        },
        "trusted": true
      },
      "execution_count": null,
      "outputs": []
    },
    {
      "cell_type": "code",
      "source": [
        "clientes_limpio.info()"
      ],
      "metadata": {
        "execution": {
          "iopub.status.busy": "2023-03-12T18:53:27.115127Z",
          "iopub.execute_input": "2023-03-12T18:53:27.115595Z",
          "iopub.status.idle": "2023-03-12T18:53:27.610759Z",
          "shell.execute_reply.started": "2023-03-12T18:53:27.115562Z",
          "shell.execute_reply": "2023-03-12T18:53:27.609128Z"
        },
        "trusted": true,
        "id": "H-xQZNsoOaff",
        "outputId": "87239ab5-a740-47e8-c736-08c7ee3d396e"
      },
      "execution_count": null,
      "outputs": [
        {
          "name": "stdout",
          "text": "<class 'pandas.core.frame.DataFrame'>\nInt64Index: 13508572 entries, 0 to 13647308\nData columns (total 42 columns):\n #   Column                 Dtype  \n---  ------                 -----  \n 0   fecha_dato             float64\n 1   ncodpers               int64  \n 2   ind_empleado           object \n 3   pais_residencia        object \n 4   sexo                   object \n 5   age                    float64\n 6   fecha_alta             float64\n 7   ind_nuevo              float64\n 8   antiguedad             int64  \n 9   indrel                 float64\n 10  indrel_1mes            int64  \n 11  tiprel_1mes            object \n 12  indresi                object \n 13  indext                 object \n 14  canal_entrada          object \n 15  indfall                object \n 16  nomprov                object \n 17  ind_actividad_cliente  float64\n 18  renta                  float64\n 19  segmento               object \n 20  ind_cco_fin_ult1       int64  \n 21  ind_cder_fin_ult1      int64  \n 22  ind_cno_fin_ult1       int64  \n 23  ind_ctju_fin_ult1      int64  \n 24  ind_ctma_fin_ult1      int64  \n 25  ind_ctop_fin_ult1      int64  \n 26  ind_ctpp_fin_ult1      int64  \n 27  ind_deco_fin_ult1      int64  \n 28  ind_deme_fin_ult1      int64  \n 29  ind_dela_fin_ult1      int64  \n 30  ind_ecue_fin_ult1      int64  \n 31  ind_fond_fin_ult1      int64  \n 32  ind_hip_fin_ult1       int64  \n 33  ind_plan_fin_ult1      int64  \n 34  ind_pres_fin_ult1      int64  \n 35  ind_reca_fin_ult1      int64  \n 36  ind_tjcr_fin_ult1      int64  \n 37  ind_valo_fin_ult1      int64  \n 38  ind_viv_fin_ult1       int64  \n 39  ind_nomina_ult1        float64\n 40  ind_nom_pens_ult1      float64\n 41  ind_recibo_ult1        int64  \ndtypes: float64(9), int64(23), object(10)\nmemory usage: 4.3+ GB\n",
          "output_type": "stream"
        }
      ]
    },
    {
      "cell_type": "markdown",
      "source": [
        "**Transformamos columnas fecha_dato, fecha_alta y antiguedad**"
      ],
      "metadata": {
        "id": "58_gVKvlOkVf"
      }
    },
    {
      "cell_type": "code",
      "source": [
        "#variable fecha_dato\n",
        "clientes_limpio['fecha_dato'] = clientes_limpio['fecha_dato'].replace('-','',regex=True).str.strip(' ,')\n",
        "clientes_limpio['fecha_dato'] = clientes_limpio['fecha_dato'].astype('float64')\n",
        "\n",
        "#variable fecha_alta\n",
        "clientes_limpio['fecha_alta'] = clientes_limpio['fecha_alta'].replace('-','',regex=True).str.strip(' ,')\n",
        "clientes_limpio['fecha_alta'] = clientes_limpio['fecha_alta'].astype('float64')\n",
        "\n",
        "#variable antiguedad\n",
        "clientes_limpio[\"antiguedad\"] = pd.to_numeric(clientes_limpio[\"antiguedad\"],errors = 'coerce')"
      ],
      "metadata": {
        "id": "oL66KBVeNTeI",
        "execution": {
          "iopub.status.busy": "2023-03-12T18:51:21.112152Z",
          "iopub.execute_input": "2023-03-12T18:51:21.112568Z",
          "iopub.status.idle": "2023-03-12T18:52:36.503397Z",
          "shell.execute_reply.started": "2023-03-12T18:51:21.112536Z",
          "shell.execute_reply": "2023-03-12T18:52:36.502011Z"
        },
        "trusted": true
      },
      "execution_count": null,
      "outputs": []
    },
    {
      "cell_type": "markdown",
      "source": [
        "**TRANSFORMAMOS COLUMNAS CATEGÓRICAS A NUMÉRICAS CON LABELENCODER** "
      ],
      "metadata": {
        "id": "P9XBAPr3NTeI"
      }
    },
    {
      "cell_type": "code",
      "source": [
        "cat_columns = clientes_limpio.select_dtypes(include='object').columns"
      ],
      "metadata": {
        "id": "zTytTUp0NTeI",
        "execution": {
          "iopub.status.busy": "2023-03-12T18:53:42.114513Z",
          "iopub.execute_input": "2023-03-12T18:53:42.115065Z",
          "iopub.status.idle": "2023-03-12T18:53:46.809510Z",
          "shell.execute_reply.started": "2023-03-12T18:53:42.115020Z",
          "shell.execute_reply": "2023-03-12T18:53:46.808070Z"
        },
        "trusted": true
      },
      "execution_count": null,
      "outputs": []
    },
    {
      "cell_type": "code",
      "source": [
        "from sklearn.preprocessing import OrdinalEncoder\n",
        "\n",
        "#generacion del encoder \n",
        "le = OrdinalEncoder(handle_unknown='use_encoded_value' , #use cuando tenes valores desconocidos \n",
        "                    unknown_value=-1) # asignacion a valores desconocidos \n",
        "\n",
        "# generacion de numeros por cada categorico \n",
        "le.fit(clientes_limpio[cat_columns])\n",
        "\n",
        "#transformacion de las categoricas en train dataset\n",
        "clientes_limpio[cat_columns] = le.transform(clientes_limpio[cat_columns])"
      ],
      "metadata": {
        "id": "kbmhpbZeNTeI",
        "execution": {
          "iopub.status.busy": "2023-03-12T18:53:54.181943Z",
          "iopub.execute_input": "2023-03-12T18:53:54.182392Z",
          "iopub.status.idle": "2023-03-12T18:54:46.697224Z",
          "shell.execute_reply.started": "2023-03-12T18:53:54.182344Z",
          "shell.execute_reply": "2023-03-12T18:54:46.695836Z"
        },
        "trusted": true
      },
      "execution_count": null,
      "outputs": []
    },
    {
      "cell_type": "code",
      "source": [
        "clientes_limpio.info()"
      ],
      "metadata": {
        "execution": {
          "iopub.status.busy": "2023-03-12T18:54:53.692535Z",
          "iopub.execute_input": "2023-03-12T18:54:53.692954Z",
          "iopub.status.idle": "2023-03-12T18:54:53.708189Z",
          "shell.execute_reply.started": "2023-03-12T18:54:53.692922Z",
          "shell.execute_reply": "2023-03-12T18:54:53.706662Z"
        },
        "trusted": true,
        "id": "7eMG9_R4Oafg",
        "outputId": "45613b50-4d28-4ad7-bd53-66ba4cc414f1"
      },
      "execution_count": null,
      "outputs": [
        {
          "name": "stdout",
          "text": "<class 'pandas.core.frame.DataFrame'>\nInt64Index: 13508572 entries, 0 to 13647308\nData columns (total 42 columns):\n #   Column                 Dtype  \n---  ------                 -----  \n 0   fecha_dato             float64\n 1   ncodpers               int64  \n 2   ind_empleado           float64\n 3   pais_residencia        float64\n 4   sexo                   float64\n 5   age                    float64\n 6   fecha_alta             float64\n 7   ind_nuevo              float64\n 8   antiguedad             int64  \n 9   indrel                 float64\n 10  indrel_1mes            int64  \n 11  tiprel_1mes            float64\n 12  indresi                float64\n 13  indext                 float64\n 14  canal_entrada          float64\n 15  indfall                float64\n 16  nomprov                float64\n 17  ind_actividad_cliente  float64\n 18  renta                  float64\n 19  segmento               float64\n 20  ind_cco_fin_ult1       int64  \n 21  ind_cder_fin_ult1      int64  \n 22  ind_cno_fin_ult1       int64  \n 23  ind_ctju_fin_ult1      int64  \n 24  ind_ctma_fin_ult1      int64  \n 25  ind_ctop_fin_ult1      int64  \n 26  ind_ctpp_fin_ult1      int64  \n 27  ind_deco_fin_ult1      int64  \n 28  ind_deme_fin_ult1      int64  \n 29  ind_dela_fin_ult1      int64  \n 30  ind_ecue_fin_ult1      int64  \n 31  ind_fond_fin_ult1      int64  \n 32  ind_hip_fin_ult1       int64  \n 33  ind_plan_fin_ult1      int64  \n 34  ind_pres_fin_ult1      int64  \n 35  ind_reca_fin_ult1      int64  \n 36  ind_tjcr_fin_ult1      int64  \n 37  ind_valo_fin_ult1      int64  \n 38  ind_viv_fin_ult1       int64  \n 39  ind_nomina_ult1        float64\n 40  ind_nom_pens_ult1      float64\n 41  ind_recibo_ult1        int64  \ndtypes: float64(19), int64(23)\nmemory usage: 4.3 GB\n",
          "output_type": "stream"
        }
      ]
    },
    {
      "cell_type": "code",
      "source": [
        "#se exporta a csv el dataset limpio y transformado\n",
        "clientes_limpio.to_csv('clientes_tratado.csv',header=True,index=False)"
      ],
      "metadata": {
        "id": "hmuVM8MtNTeJ",
        "execution": {
          "iopub.status.busy": "2023-03-12T18:55:05.851081Z",
          "iopub.execute_input": "2023-03-12T18:55:05.854104Z",
          "iopub.status.idle": "2023-03-12T18:58:40.732456Z",
          "shell.execute_reply.started": "2023-03-12T18:55:05.854001Z",
          "shell.execute_reply": "2023-03-12T18:58:40.730843Z"
        },
        "trusted": true
      },
      "execution_count": null,
      "outputs": []
    },
    {
      "cell_type": "code",
      "source": [
        "clientes_tratado=pd.read_csv('clientes_tratado.csv', header=0)\n",
        "clientes_tratado.head()"
      ],
      "metadata": {
        "id": "d0TKSf9jNTeJ",
        "outputId": "97c4bc67-a379-46f4-d76b-870b11223bfd",
        "execution": {
          "iopub.status.busy": "2023-03-12T20:03:54.121920Z",
          "iopub.execute_input": "2023-03-12T20:03:54.122376Z",
          "iopub.status.idle": "2023-03-12T20:04:58.362310Z",
          "shell.execute_reply.started": "2023-03-12T20:03:54.122324Z",
          "shell.execute_reply": "2023-03-12T20:04:58.360873Z"
        },
        "trusted": true
      },
      "execution_count": null,
      "outputs": [
        {
          "execution_count": 2,
          "output_type": "execute_result",
          "data": {
            "text/plain": "   fecha_dato  ncodpers  ind_empleado  pais_residencia  sexo   age  \\\n0  20150128.0   1375586           3.0             36.0   0.0  35.0   \n1  20150228.0   1375586           3.0             36.0   0.0  35.0   \n2  20150328.0   1375586           3.0             36.0   0.0  35.0   \n3  20150428.0   1375586           3.0             36.0   0.0  35.0   \n4  20150528.0   1375586           3.0             36.0   0.0  35.0   \n\n   fecha_alta  ind_nuevo  antiguedad  indrel  ...  ind_hip_fin_ult1  \\\n0  20150112.0        0.0           6     1.0  ...                 0   \n1  20150112.0        0.0           6     1.0  ...                 0   \n2  20150112.0        0.0           6     1.0  ...                 0   \n3  20150112.0        0.0           6     1.0  ...                 0   \n4  20150112.0        0.0           6     1.0  ...                 0   \n\n   ind_plan_fin_ult1  ind_pres_fin_ult1  ind_reca_fin_ult1  ind_tjcr_fin_ult1  \\\n0                  0                  0                  0                  0   \n1                  0                  0                  0                  0   \n2                  0                  0                  0                  0   \n3                  0                  0                  0                  0   \n4                  0                  0                  0                  0   \n\n   ind_valo_fin_ult1  ind_viv_fin_ult1  ind_nomina_ult1  ind_nom_pens_ult1  \\\n0                  0                 0              0.0                0.0   \n1                  0                 0              0.0                0.0   \n2                  0                 0              0.0                0.0   \n3                  0                 0              0.0                0.0   \n4                  0                 0              0.0                0.0   \n\n   ind_recibo_ult1  \n0                0  \n1                0  \n2                0  \n3                0  \n4                1  \n\n[5 rows x 42 columns]",
            "text/html": "<div>\n<style scoped>\n    .dataframe tbody tr th:only-of-type {\n        vertical-align: middle;\n    }\n\n    .dataframe tbody tr th {\n        vertical-align: top;\n    }\n\n    .dataframe thead th {\n        text-align: right;\n    }\n</style>\n<table border=\"1\" class=\"dataframe\">\n  <thead>\n    <tr style=\"text-align: right;\">\n      <th></th>\n      <th>fecha_dato</th>\n      <th>ncodpers</th>\n      <th>ind_empleado</th>\n      <th>pais_residencia</th>\n      <th>sexo</th>\n      <th>age</th>\n      <th>fecha_alta</th>\n      <th>ind_nuevo</th>\n      <th>antiguedad</th>\n      <th>indrel</th>\n      <th>...</th>\n      <th>ind_hip_fin_ult1</th>\n      <th>ind_plan_fin_ult1</th>\n      <th>ind_pres_fin_ult1</th>\n      <th>ind_reca_fin_ult1</th>\n      <th>ind_tjcr_fin_ult1</th>\n      <th>ind_valo_fin_ult1</th>\n      <th>ind_viv_fin_ult1</th>\n      <th>ind_nomina_ult1</th>\n      <th>ind_nom_pens_ult1</th>\n      <th>ind_recibo_ult1</th>\n    </tr>\n  </thead>\n  <tbody>\n    <tr>\n      <th>0</th>\n      <td>20150128.0</td>\n      <td>1375586</td>\n      <td>3.0</td>\n      <td>36.0</td>\n      <td>0.0</td>\n      <td>35.0</td>\n      <td>20150112.0</td>\n      <td>0.0</td>\n      <td>6</td>\n      <td>1.0</td>\n      <td>...</td>\n      <td>0</td>\n      <td>0</td>\n      <td>0</td>\n      <td>0</td>\n      <td>0</td>\n      <td>0</td>\n      <td>0</td>\n      <td>0.0</td>\n      <td>0.0</td>\n      <td>0</td>\n    </tr>\n    <tr>\n      <th>1</th>\n      <td>20150228.0</td>\n      <td>1375586</td>\n      <td>3.0</td>\n      <td>36.0</td>\n      <td>0.0</td>\n      <td>35.0</td>\n      <td>20150112.0</td>\n      <td>0.0</td>\n      <td>6</td>\n      <td>1.0</td>\n      <td>...</td>\n      <td>0</td>\n      <td>0</td>\n      <td>0</td>\n      <td>0</td>\n      <td>0</td>\n      <td>0</td>\n      <td>0</td>\n      <td>0.0</td>\n      <td>0.0</td>\n      <td>0</td>\n    </tr>\n    <tr>\n      <th>2</th>\n      <td>20150328.0</td>\n      <td>1375586</td>\n      <td>3.0</td>\n      <td>36.0</td>\n      <td>0.0</td>\n      <td>35.0</td>\n      <td>20150112.0</td>\n      <td>0.0</td>\n      <td>6</td>\n      <td>1.0</td>\n      <td>...</td>\n      <td>0</td>\n      <td>0</td>\n      <td>0</td>\n      <td>0</td>\n      <td>0</td>\n      <td>0</td>\n      <td>0</td>\n      <td>0.0</td>\n      <td>0.0</td>\n      <td>0</td>\n    </tr>\n    <tr>\n      <th>3</th>\n      <td>20150428.0</td>\n      <td>1375586</td>\n      <td>3.0</td>\n      <td>36.0</td>\n      <td>0.0</td>\n      <td>35.0</td>\n      <td>20150112.0</td>\n      <td>0.0</td>\n      <td>6</td>\n      <td>1.0</td>\n      <td>...</td>\n      <td>0</td>\n      <td>0</td>\n      <td>0</td>\n      <td>0</td>\n      <td>0</td>\n      <td>0</td>\n      <td>0</td>\n      <td>0.0</td>\n      <td>0.0</td>\n      <td>0</td>\n    </tr>\n    <tr>\n      <th>4</th>\n      <td>20150528.0</td>\n      <td>1375586</td>\n      <td>3.0</td>\n      <td>36.0</td>\n      <td>0.0</td>\n      <td>35.0</td>\n      <td>20150112.0</td>\n      <td>0.0</td>\n      <td>6</td>\n      <td>1.0</td>\n      <td>...</td>\n      <td>0</td>\n      <td>0</td>\n      <td>0</td>\n      <td>0</td>\n      <td>0</td>\n      <td>0</td>\n      <td>0</td>\n      <td>0.0</td>\n      <td>0.0</td>\n      <td>1</td>\n    </tr>\n  </tbody>\n</table>\n<p>5 rows × 42 columns</p>\n</div>"
          },
          "metadata": {}
        }
      ]
    },
    {
      "cell_type": "markdown",
      "source": [
        "# **PLANTEAMIENTO DEL MODELO**\n",
        "![images.jpg](data:image/jpeg;base64,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)\n"
      ],
      "metadata": {
        "id": "-bKmdDKyNTeP"
      }
    },
    {
      "cell_type": "code",
      "source": [
        "clientes_tratado.columns"
      ],
      "metadata": {
        "id": "Pjudhj0kNTeP",
        "outputId": "07f08a01-d5ff-4b1c-8426-e9e472036cf0",
        "execution": {
          "iopub.status.busy": "2023-03-12T18:59:53.657980Z",
          "iopub.execute_input": "2023-03-12T18:59:53.658396Z",
          "iopub.status.idle": "2023-03-12T18:59:53.668325Z",
          "shell.execute_reply.started": "2023-03-12T18:59:53.658363Z",
          "shell.execute_reply": "2023-03-12T18:59:53.666899Z"
        },
        "trusted": true
      },
      "execution_count": null,
      "outputs": [
        {
          "execution_count": 17,
          "output_type": "execute_result",
          "data": {
            "text/plain": "Index(['fecha_dato', 'ncodpers', 'ind_empleado', 'pais_residencia', 'sexo',\n       'age', 'fecha_alta', 'ind_nuevo', 'antiguedad', 'indrel', 'indrel_1mes',\n       'tiprel_1mes', 'indresi', 'indext', 'canal_entrada', 'indfall',\n       'nomprov', 'ind_actividad_cliente', 'renta', 'segmento',\n       'ind_cco_fin_ult1', 'ind_cder_fin_ult1', 'ind_cno_fin_ult1',\n       'ind_ctju_fin_ult1', 'ind_ctma_fin_ult1', 'ind_ctop_fin_ult1',\n       'ind_ctpp_fin_ult1', 'ind_deco_fin_ult1', 'ind_deme_fin_ult1',\n       'ind_dela_fin_ult1', 'ind_ecue_fin_ult1', 'ind_fond_fin_ult1',\n       'ind_hip_fin_ult1', 'ind_plan_fin_ult1', 'ind_pres_fin_ult1',\n       'ind_reca_fin_ult1', 'ind_tjcr_fin_ult1', 'ind_valo_fin_ult1',\n       'ind_viv_fin_ult1', 'ind_nomina_ult1', 'ind_nom_pens_ult1',\n       'ind_recibo_ult1'],\n      dtype='object')"
          },
          "metadata": {}
        }
      ]
    },
    {
      "cell_type": "markdown",
      "source": [
        "**Para el planteamiento del modelo, realizamos un primer paso que es la división de los datos de entrenmaiento y de prueba. En este caso, el 80% de la base de datos se seleccionó para entrenar los modelos y el 20% como conjunto de prueba.**"
      ],
      "metadata": {
        "id": "mzlYNBC8sIOh"
      }
    },
    {
      "cell_type": "code",
      "source": [
        "# split input y target\n",
        "X = clientes_tratado.iloc[:,0:20] #variables independientes\n",
        "y = clientes_tratado.iloc[:,20:42]    #target variable\n",
        "print (X)\n",
        "print(y)"
      ],
      "metadata": {
        "id": "MZYDafv3Psxy",
        "execution": {
          "iopub.status.busy": "2023-03-12T19:00:00.401446Z",
          "iopub.execute_input": "2023-03-12T19:00:00.401862Z",
          "iopub.status.idle": "2023-03-12T19:00:03.402821Z",
          "shell.execute_reply.started": "2023-03-12T19:00:00.401828Z",
          "shell.execute_reply": "2023-03-12T19:00:03.401495Z"
        },
        "trusted": true,
        "outputId": "f4fe7dca-533b-4224-ff82-2734e76d9999"
      },
      "execution_count": null,
      "outputs": [
        {
          "name": "stdout",
          "text": "          fecha_dato  ncodpers  ind_empleado  pais_residencia  sexo   age  \\\n0         20150128.0   1375586           3.0             36.0   0.0  35.0   \n1         20150228.0   1375586           3.0             36.0   0.0  35.0   \n2         20150328.0   1375586           3.0             36.0   0.0  35.0   \n3         20150428.0   1375586           3.0             36.0   0.0  35.0   \n4         20150528.0   1375586           3.0             36.0   0.0  35.0   \n...              ...       ...           ...              ...   ...   ...   \n13508567  20160528.0   1185013           3.0             36.0   1.0  53.0   \n13508568  20160528.0   1168909           3.0             36.0   1.0  43.0   \n13508569  20160528.0   1173729           3.0             36.0   0.0  33.0   \n13508570  20160528.0   1164094           3.0             36.0   0.0  54.0   \n13508571  20160528.0   1550586           3.0             36.0   0.0  37.0   \n\n          fecha_alta  ind_nuevo  antiguedad  indrel  indrel_1mes  tiprel_1mes  \\\n0         20150112.0        0.0           6     1.0            1          0.0   \n1         20150112.0        0.0           6     1.0            1          0.0   \n2         20150112.0        0.0           6     1.0            1          0.0   \n3         20150112.0        0.0           6     1.0            1          0.0   \n4         20150112.0        0.0           6     1.0            1          0.0   \n...              ...        ...         ...     ...          ...          ...   \n13508567  20160514.0        1.0           0     1.0            5          4.0   \n13508568  20130823.0        1.0           0     1.0            3          3.0   \n13508569  20130909.0        1.0           1     1.0            1          0.0   \n13508570  20160513.0        0.0          32     1.0            2          0.0   \n13508571  20160513.0        1.0           0     1.0            0          1.0   \n\n          indresi  indext  canal_entrada  indfall  nomprov  \\\n0             1.0     0.0          153.0      0.0     31.0   \n1             1.0     0.0          153.0      0.0     31.0   \n2             1.0     0.0          153.0      0.0     31.0   \n3             1.0     0.0          153.0      0.0     31.0   \n4             1.0     0.0          153.0      0.0     31.0   \n...           ...     ...            ...      ...      ...   \n13508567      1.0     0.0          150.0      0.0     26.0   \n13508568      1.0     0.0          150.0      0.0     38.0   \n13508569      1.0     1.0          150.0      0.0     17.0   \n13508570      1.0     0.0          122.0      0.0     33.0   \n13508571      1.0     0.0          150.0      0.0     30.0   \n\n          ind_actividad_cliente     renta  segmento  \n0                           1.0   87218.1       1.0  \n1                           1.0   87218.1       1.0  \n2                           1.0   87218.1       1.0  \n3                           1.0   87218.1       1.0  \n4                           1.0   87218.1       1.0  \n...                         ...       ...       ...  \n13508567                    1.0  101850.0       1.0  \n13508568                    1.0  101850.0       1.0  \n13508569                    1.0  101850.0       1.0  \n13508570                    1.0  101850.0       1.0  \n13508571                    1.0  101850.0       1.0  \n\n[13508572 rows x 20 columns]\n          ind_cco_fin_ult1  ind_cder_fin_ult1  ind_cno_fin_ult1  \\\n0                        1                  0                 0   \n1                        1                  0                 0   \n2                        1                  0                 0   \n3                        1                  0                 0   \n4                        1                  0                 0   \n...                    ...                ...               ...   \n13508567                 1                  0                 0   \n13508568                 1                  0                 0   \n13508569                 1                  0                 0   \n13508570                 1                  0                 0   \n13508571                 1                  0                 0   \n\n          ind_ctju_fin_ult1  ind_ctma_fin_ult1  ind_ctop_fin_ult1  \\\n0                         0                  0                  0   \n1                         0                  0                  0   \n2                         0                  0                  0   \n3                         0                  0                  0   \n4                         0                  0                  0   \n...                     ...                ...                ...   \n13508567                  0                  0                  0   \n13508568                  0                  0                  0   \n13508569                  0                  0                  0   \n13508570                  0                  0                  0   \n13508571                  0                  1                  0   \n\n          ind_ctpp_fin_ult1  ind_deco_fin_ult1  ind_deme_fin_ult1  \\\n0                         0                  0                  0   \n1                         0                  0                  0   \n2                         0                  0                  0   \n3                         0                  0                  0   \n4                         0                  0                  0   \n...                     ...                ...                ...   \n13508567                  0                  0                  0   \n13508568                  0                  0                  0   \n13508569                  0                  0                  0   \n13508570                  0                  0                  0   \n13508571                  0                  0                  0   \n\n          ind_dela_fin_ult1  ...  ind_hip_fin_ult1  ind_plan_fin_ult1  \\\n0                         0  ...                 0                  0   \n1                         0  ...                 0                  0   \n2                         0  ...                 0                  0   \n3                         0  ...                 0                  0   \n4                         0  ...                 0                  0   \n...                     ...  ...               ...                ...   \n13508567                  0  ...                 0                  0   \n13508568                  0  ...                 0                  0   \n13508569                  0  ...                 0                  0   \n13508570                  0  ...                 0                  0   \n13508571                  0  ...                 0                  0   \n\n          ind_pres_fin_ult1  ind_reca_fin_ult1  ind_tjcr_fin_ult1  \\\n0                         0                  0                  0   \n1                         0                  0                  0   \n2                         0                  0                  0   \n3                         0                  0                  0   \n4                         0                  0                  0   \n...                     ...                ...                ...   \n13508567                  0                  0                  0   \n13508568                  0                  0                  0   \n13508569                  0                  0                  0   \n13508570                  0                  0                  0   \n13508571                  0                  0                  0   \n\n          ind_valo_fin_ult1  ind_viv_fin_ult1  ind_nomina_ult1  \\\n0                         0                 0              0.0   \n1                         0                 0              0.0   \n2                         0                 0              0.0   \n3                         0                 0              0.0   \n4                         0                 0              0.0   \n...                     ...               ...              ...   \n13508567                  0                 0              0.0   \n13508568                  0                 0              0.0   \n13508569                  0                 0              0.0   \n13508570                  0                 0              0.0   \n13508571                  0                 0              0.0   \n\n          ind_nom_pens_ult1  ind_recibo_ult1  \n0                       0.0                0  \n1                       0.0                0  \n2                       0.0                0  \n3                       0.0                0  \n4                       0.0                1  \n...                     ...              ...  \n13508567                0.0                0  \n13508568                0.0                0  \n13508569                0.0                0  \n13508570                0.0                0  \n13508571                0.0                0  \n\n[13508572 rows x 22 columns]\n",
          "output_type": "stream"
        }
      ]
    },
    {
      "cell_type": "code",
      "source": [
        "#split de modelo\n",
        "from sklearn.model_selection import train_test_split\n",
        "\n",
        "X_train , X_test, y_train, y_test = train_test_split(X, y , test_size=0.2, random_state=10)\n",
        "\n",
        "print(X_train.shape, y_train.shape)"
      ],
      "metadata": {
        "id": "kc0ENaHiRE-k",
        "execution": {
          "iopub.status.busy": "2023-03-12T19:00:14.511539Z",
          "iopub.execute_input": "2023-03-12T19:00:14.511973Z",
          "iopub.status.idle": "2023-03-12T19:00:25.553970Z",
          "shell.execute_reply.started": "2023-03-12T19:00:14.511940Z",
          "shell.execute_reply": "2023-03-12T19:00:25.552773Z"
        },
        "trusted": true,
        "outputId": "26d5b595-f543-457c-eb56-8f132445dbe3"
      },
      "execution_count": null,
      "outputs": [
        {
          "name": "stdout",
          "text": "(10806857, 20) (10806857, 22)\n",
          "output_type": "stream"
        }
      ]
    },
    {
      "cell_type": "markdown",
      "source": [
        "# **ENTRENANDO EL MODELO**\n"
      ],
      "metadata": {
        "id": "yolYlxnhsaFd"
      }
    },
    {
      "cell_type": "code",
      "source": [
        "#training del modelo\n",
        "from sklearn import tree\n",
        "\n",
        "model_default = tree.DecisionTreeClassifier(random_state = 42) # con hiperparametros default\n",
        "model_default.fit(X_train, y_train)\n",
        "\n",
        "#modelo generado con algun hiperparametros diferente\n",
        "model_max_depth = tree.DecisionTreeClassifier(random_state = 42, max_depth=7) \n",
        "model_max_depth.fit(X_train, y_train)\n"
      ],
      "metadata": {
        "id": "8A4Ii78UP6hW",
        "execution": {
          "iopub.status.busy": "2023-03-12T19:01:05.038893Z",
          "iopub.execute_input": "2023-03-12T19:01:05.039419Z",
          "iopub.status.idle": "2023-03-12T19:20:04.098023Z",
          "shell.execute_reply.started": "2023-03-12T19:01:05.039369Z",
          "shell.execute_reply": "2023-03-12T19:20:04.096538Z"
        },
        "trusted": true,
        "outputId": "620510c5-1331-47ca-aae6-f3e6fe1f5e3a"
      },
      "execution_count": null,
      "outputs": [
        {
          "execution_count": 21,
          "output_type": "execute_result",
          "data": {
            "text/plain": "DecisionTreeClassifier(max_depth=7, random_state=42)"
          },
          "metadata": {}
        }
      ]
    },
    {
      "cell_type": "code",
      "source": [
        "#prediccion\n",
        "y_pred_test = model_max_depth.predict(X_test)\n",
        "y_pred_test"
      ],
      "metadata": {
        "execution": {
          "iopub.status.busy": "2023-03-12T19:42:15.133497Z",
          "iopub.execute_input": "2023-03-12T19:42:15.136945Z",
          "iopub.status.idle": "2023-03-12T19:42:21.907134Z",
          "shell.execute_reply.started": "2023-03-12T19:42:15.136836Z",
          "shell.execute_reply": "2023-03-12T19:42:21.905447Z"
        },
        "trusted": true,
        "id": "0CBt0H_rOafi",
        "outputId": "a0451e79-4b9d-4bac-b72b-27bc6a3e8e53"
      },
      "execution_count": null,
      "outputs": [
        {
          "execution_count": 22,
          "output_type": "execute_result",
          "data": {
            "text/plain": "array([[1., 0., 0., ..., 0., 0., 0.],\n       [1., 0., 0., ..., 0., 0., 0.],\n       [1., 0., 0., ..., 0., 0., 0.],\n       ...,\n       [1., 0., 0., ..., 0., 0., 0.],\n       [1., 0., 0., ..., 0., 0., 0.],\n       [1., 0., 0., ..., 0., 0., 0.]])"
          },
          "metadata": {}
        }
      ]
    },
    {
      "cell_type": "markdown",
      "source": [
        "# **METRICAS**\n",
        "![istockphoto-942473382-612x612.jpg](data:image/jpeg;base64,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)"
      ],
      "metadata": {
        "id": "lNKn3kfIQRNJ"
      }
    },
    {
      "cell_type": "markdown",
      "source": [
        "**Evaluación final del modelo en el test**"
      ],
      "metadata": {
        "id": "Q5GH9a0dug7w"
      }
    },
    {
      "cell_type": "code",
      "source": [
        "accuracy = metrics.accuracy_score(y_test, y_pred_test)\n",
        "accuracy"
      ],
      "metadata": {
        "execution": {
          "iopub.status.busy": "2023-03-12T19:52:47.233267Z",
          "iopub.execute_input": "2023-03-12T19:52:47.234038Z",
          "iopub.status.idle": "2023-03-12T19:52:55.047995Z",
          "shell.execute_reply.started": "2023-03-12T19:52:47.233994Z",
          "shell.execute_reply": "2023-03-12T19:52:55.046713Z"
        },
        "trusted": true,
        "id": "hUTLgwteOafi",
        "outputId": "f92589a0-f91b-4767-f959-762bb541fba8"
      },
      "execution_count": null,
      "outputs": [
        {
          "execution_count": 25,
          "output_type": "execute_result",
          "data": {
            "text/plain": "0.54420210866061"
          },
          "metadata": {}
        }
      ]
    },
    {
      "cell_type": "code",
      "source": [
        "#todas las metricas en uno\n",
        "print(metrics.classification_report(y_test, y_pred_test))"
      ],
      "metadata": {
        "execution": {
          "iopub.status.busy": "2023-03-12T19:54:30.693049Z",
          "iopub.execute_input": "2023-03-12T19:54:30.693492Z",
          "iopub.status.idle": "2023-03-12T19:54:47.047650Z",
          "shell.execute_reply.started": "2023-03-12T19:54:30.693456Z",
          "shell.execute_reply": "2023-03-12T19:54:47.046436Z"
        },
        "trusted": true,
        "id": "AOR6h4akOafj",
        "outputId": "7ec18165-35e5-4b2e-a45c-2d44a4a7bfd1"
      },
      "execution_count": null,
      "outputs": [
        {
          "name": "stderr",
          "text": "/opt/conda/lib/python3.7/site-packages/sklearn/metrics/_classification.py:1318: UndefinedMetricWarning: Precision and F-score are ill-defined and being set to 0.0 in labels with no predicted samples. Use `zero_division` parameter to control this behavior.\n  _warn_prf(average, modifier, msg_start, len(result))\n",
          "output_type": "stream"
        },
        {
          "name": "stdout",
          "text": "              precision    recall  f1-score   support\n\n           0       0.78      0.89      0.83   1784493\n           1       0.00      0.00      0.00      1095\n           2       0.56      0.06      0.10    220410\n           3       0.94      0.60      0.74      8423\n           4       0.74      0.02      0.04     26435\n           5       0.61      0.21      0.32    350701\n           6       0.51      0.26      0.34    117700\n           7       0.00      0.00      0.00      4838\n           8       0.00      0.00      0.00      4466\n           9       0.57      0.30      0.39    117532\n          10       0.57      0.12      0.19    225031\n          11       0.48      0.01      0.01     50384\n          12       0.00      0.00      0.00     15995\n          13       0.00      0.00      0.00     24684\n          14       0.65      0.02      0.04      6781\n          15       0.00      0.00      0.00    140916\n          16       0.00      0.00      0.00    120646\n          17       0.00      0.00      0.00     69884\n          18       0.00      0.00      0.00     10559\n          19       0.53      0.02      0.04    148805\n          20       0.53      0.02      0.04    161617\n          21       0.55      0.17      0.26    347840\n\n   micro avg       0.74      0.47      0.57   3959235\n   macro avg       0.36      0.12      0.15   3959235\nweighted avg       0.60      0.47      0.47   3959235\n samples avg       0.59      0.51      0.53   3959235\n\n",
          "output_type": "stream"
        },
        {
          "name": "stderr",
          "text": "/opt/conda/lib/python3.7/site-packages/sklearn/metrics/_classification.py:1318: UndefinedMetricWarning: Precision and F-score are ill-defined and being set to 0.0 in samples with no predicted labels. Use `zero_division` parameter to control this behavior.\n  _warn_prf(average, modifier, msg_start, len(result))\n/opt/conda/lib/python3.7/site-packages/sklearn/metrics/_classification.py:1318: UndefinedMetricWarning: Recall and F-score are ill-defined and being set to 0.0 in samples with no true labels. Use `zero_division` parameter to control this behavior.\n  _warn_prf(average, modifier, msg_start, len(result))\n",
          "output_type": "stream"
        }
      ]
    },
    {
      "cell_type": "markdown",
      "source": [
        "# **MODELO APLICADO A VARIABLES INDEPENDIENTES Y EL PAQUETE ind_cco_fin_ult1 (CUENTAS CORRIENTES)**"
      ],
      "metadata": {
        "id": "CdqOuGRWwEvo"
      }
    },
    {
      "cell_type": "code",
      "source": [
        "#modelo aplicado a variables independientes y el paquete ccoo\n",
        "X_red = clientes_tratado.iloc[:,0:20] #variables independientes\n",
        "y_red = clientes_tratado.iloc[:,20]    #target variable\n",
        "print (X_red)\n",
        "print(y_red)"
      ],
      "metadata": {
        "execution": {
          "iopub.status.busy": "2023-03-12T20:05:22.297595Z",
          "iopub.execute_input": "2023-03-12T20:05:22.298035Z",
          "iopub.status.idle": "2023-03-12T20:05:23.034274Z",
          "shell.execute_reply.started": "2023-03-12T20:05:22.298003Z",
          "shell.execute_reply": "2023-03-12T20:05:23.033060Z"
        },
        "trusted": true,
        "id": "52h_a2_tOafj",
        "outputId": "db74b25b-cc16-487a-d107-ecfb7df045af"
      },
      "execution_count": null,
      "outputs": [
        {
          "name": "stdout",
          "text": "          fecha_dato  ncodpers  ind_empleado  pais_residencia  sexo   age  \\\n0         20150128.0   1375586           3.0             36.0   0.0  35.0   \n1         20150228.0   1375586           3.0             36.0   0.0  35.0   \n2         20150328.0   1375586           3.0             36.0   0.0  35.0   \n3         20150428.0   1375586           3.0             36.0   0.0  35.0   \n4         20150528.0   1375586           3.0             36.0   0.0  35.0   \n...              ...       ...           ...              ...   ...   ...   \n13508567  20160528.0   1185013           3.0             36.0   1.0  53.0   \n13508568  20160528.0   1168909           3.0             36.0   1.0  43.0   \n13508569  20160528.0   1173729           3.0             36.0   0.0  33.0   \n13508570  20160528.0   1164094           3.0             36.0   0.0  54.0   \n13508571  20160528.0   1550586           3.0             36.0   0.0  37.0   \n\n          fecha_alta  ind_nuevo  antiguedad  indrel  indrel_1mes  tiprel_1mes  \\\n0         20150112.0        0.0           6     1.0            1          0.0   \n1         20150112.0        0.0           6     1.0            1          0.0   \n2         20150112.0        0.0           6     1.0            1          0.0   \n3         20150112.0        0.0           6     1.0            1          0.0   \n4         20150112.0        0.0           6     1.0            1          0.0   \n...              ...        ...         ...     ...          ...          ...   \n13508567  20160514.0        1.0           0     1.0            5          4.0   \n13508568  20130823.0        1.0           0     1.0            3          3.0   \n13508569  20130909.0        1.0           1     1.0            1          0.0   \n13508570  20160513.0        0.0          32     1.0            2          0.0   \n13508571  20160513.0        1.0           0     1.0            0          1.0   \n\n          indresi  indext  canal_entrada  indfall  nomprov  \\\n0             1.0     0.0          153.0      0.0     31.0   \n1             1.0     0.0          153.0      0.0     31.0   \n2             1.0     0.0          153.0      0.0     31.0   \n3             1.0     0.0          153.0      0.0     31.0   \n4             1.0     0.0          153.0      0.0     31.0   \n...           ...     ...            ...      ...      ...   \n13508567      1.0     0.0          150.0      0.0     26.0   \n13508568      1.0     0.0          150.0      0.0     38.0   \n13508569      1.0     1.0          150.0      0.0     17.0   \n13508570      1.0     0.0          122.0      0.0     33.0   \n13508571      1.0     0.0          150.0      0.0     30.0   \n\n          ind_actividad_cliente     renta  segmento  \n0                           1.0   87218.1       1.0  \n1                           1.0   87218.1       1.0  \n2                           1.0   87218.1       1.0  \n3                           1.0   87218.1       1.0  \n4                           1.0   87218.1       1.0  \n...                         ...       ...       ...  \n13508567                    1.0  101850.0       1.0  \n13508568                    1.0  101850.0       1.0  \n13508569                    1.0  101850.0       1.0  \n13508570                    1.0  101850.0       1.0  \n13508571                    1.0  101850.0       1.0  \n\n[13508572 rows x 20 columns]\n0           1\n1           1\n2           1\n3           1\n4           1\n           ..\n13508567    1\n13508568    1\n13508569    1\n13508570    1\n13508571    1\nName: ind_cco_fin_ult1, Length: 13508572, dtype: int64\n",
          "output_type": "stream"
        }
      ]
    },
    {
      "cell_type": "markdown",
      "source": [
        "**SPLIT DEL MODELO**"
      ],
      "metadata": {
        "id": "j62bzqZkwRA3"
      }
    },
    {
      "cell_type": "code",
      "source": [
        "#split de modelo\n",
        "from sklearn.model_selection import train_test_split\n",
        "\n",
        "X_red_train , X_red_test, y_red_train, y_red_test = train_test_split(X_red, y_red , test_size=0.2, random_state=10)\n",
        "\n",
        "print(X_red_train.shape, y_red_train.shape)"
      ],
      "metadata": {
        "execution": {
          "iopub.status.busy": "2023-03-12T20:05:29.115114Z",
          "iopub.execute_input": "2023-03-12T20:05:29.115595Z",
          "iopub.status.idle": "2023-03-12T20:05:36.095988Z",
          "shell.execute_reply.started": "2023-03-12T20:05:29.115555Z",
          "shell.execute_reply": "2023-03-12T20:05:36.094543Z"
        },
        "trusted": true,
        "id": "t28CuP5cOafj",
        "outputId": "2279a88a-6f0c-4b54-e357-ddd311e440be"
      },
      "execution_count": null,
      "outputs": [
        {
          "name": "stdout",
          "text": "(10806857, 20) (10806857,)\n",
          "output_type": "stream"
        }
      ]
    },
    {
      "cell_type": "markdown",
      "source": [
        "**ENTRENAMIENTO DEL MODELO**"
      ],
      "metadata": {
        "id": "Xfmd1bBNwUxG"
      }
    },
    {
      "cell_type": "code",
      "source": [
        "#training del modelo\n",
        "from sklearn import tree\n",
        "\n",
        "model_default = tree.DecisionTreeClassifier(random_state = 42) # con hiperparametros default\n",
        "model_default.fit(X_red_train, y_red_train)\n",
        "\n",
        "#modelo generado con algun hiperparametros diferente\n",
        "model_max_depth = tree.DecisionTreeClassifier(random_state = 42, max_depth=7) \n",
        "model_max_depth.fit(X_red_train, y_red_train)\n"
      ],
      "metadata": {
        "execution": {
          "iopub.status.busy": "2023-03-12T20:07:03.552777Z",
          "iopub.execute_input": "2023-03-12T20:07:03.553515Z",
          "iopub.status.idle": "2023-03-12T20:16:27.691588Z",
          "shell.execute_reply.started": "2023-03-12T20:07:03.553438Z",
          "shell.execute_reply": "2023-03-12T20:16:27.690079Z"
        },
        "trusted": true,
        "id": "NNoj2ygBOafj",
        "outputId": "bd1df5ec-8fb9-441b-9c26-3222faa6a6b0"
      },
      "execution_count": null,
      "outputs": [
        {
          "execution_count": 6,
          "output_type": "execute_result",
          "data": {
            "text/plain": "DecisionTreeClassifier(max_depth=7, random_state=42)"
          },
          "metadata": {}
        }
      ]
    },
    {
      "cell_type": "code",
      "source": [
        "#prediccion\n",
        "y_pred_test = model_max_depth.predict(X_red_test)\n",
        "y_pred_test"
      ],
      "metadata": {
        "execution": {
          "iopub.status.busy": "2023-03-12T20:17:05.225480Z",
          "iopub.execute_input": "2023-03-12T20:17:05.226991Z",
          "iopub.status.idle": "2023-03-12T20:17:05.783333Z",
          "shell.execute_reply.started": "2023-03-12T20:17:05.226940Z",
          "shell.execute_reply": "2023-03-12T20:17:05.782019Z"
        },
        "trusted": true,
        "id": "2Vwq5w78Oafj",
        "outputId": "6cefcfd4-da7c-49bb-9728-f52f8f1f4efb"
      },
      "execution_count": null,
      "outputs": [
        {
          "execution_count": 7,
          "output_type": "execute_result",
          "data": {
            "text/plain": "array([1, 1, 1, ..., 1, 1, 1])"
          },
          "metadata": {}
        }
      ]
    },
    {
      "cell_type": "markdown",
      "source": [
        "**METRICAS**"
      ],
      "metadata": {
        "id": "n2LuVXhlwX_R"
      }
    },
    {
      "cell_type": "code",
      "source": [
        "from sklearn.metrics import confusion_matrix\n",
        "from sklearn.metrics import accuracy_score\n",
        "\n",
        "#accuracy\n",
        "print('Accuracy score for test data is:', accuracy_score(y_red_test,y_pred_test))\n",
        "\n",
        "confusion_matrix = pd.DataFrame(confusion_matrix(y_red_test, y_pred_test))"
      ],
      "metadata": {
        "execution": {
          "iopub.status.busy": "2023-03-12T20:17:15.765532Z",
          "iopub.execute_input": "2023-03-12T20:17:15.765980Z",
          "iopub.status.idle": "2023-03-12T20:17:16.740831Z",
          "shell.execute_reply.started": "2023-03-12T20:17:15.765945Z",
          "shell.execute_reply": "2023-03-12T20:17:16.739710Z"
        },
        "trusted": true,
        "id": "-APfy2YKOafj",
        "outputId": "b80d1479-4f91-4eb5-b02e-e747a6162c42"
      },
      "execution_count": null,
      "outputs": [
        {
          "name": "stdout",
          "text": "Accuracy score for test data is: 0.762967226372878\n",
          "output_type": "stream"
        }
      ]
    },
    {
      "cell_type": "code",
      "source": [
        "from yellowbrick.classifier import ConfusionMatrix\n",
        "import matplotlib.pyplot as plt\n",
        "fig, ax = plt.subplots(figsize=(5,5))\n",
        "cm = ConfusionMatrix(model_max_depth, classes=[0, 1], cmap='RdPu')\n",
        "cm.score(X_red_test, y_red_test)\n",
        "for label in cm.ax.texts:\n",
        "    label.set_size(14)\n",
        "cm.poof()"
      ],
      "metadata": {
        "id": "Ield1AcgQWMW",
        "execution": {
          "iopub.status.busy": "2023-03-12T20:17:29.331641Z",
          "iopub.execute_input": "2023-03-12T20:17:29.332082Z",
          "iopub.status.idle": "2023-03-12T20:17:31.400181Z",
          "shell.execute_reply.started": "2023-03-12T20:17:29.332048Z",
          "shell.execute_reply": "2023-03-12T20:17:31.398749Z"
        },
        "trusted": true,
        "outputId": "860b16f4-0cc1-4a8f-ae5b-7eb745f7ae3a"
      },
      "execution_count": null,
      "outputs": [
        {
          "name": "stderr",
          "text": "/opt/conda/lib/python3.7/site-packages/yellowbrick/classifier/base.py:234: YellowbrickWarning: could not determine class_counts_ from previously fitted classifier\n  YellowbrickWarning,\n",
          "output_type": "stream"
        },
        {
          "output_type": "display_data",
          "data": {
            "text/plain": "<Figure size 360x360 with 1 Axes>",
            "image/png": "[encoded data removed]"
          },
          "metadata": {}
        },
        {
          "execution_count": 9,
          "output_type": "execute_result",
          "data": {
            "text/plain": "<AxesSubplot:title={'center':'DecisionTreeClassifier Confusion Matrix'}, xlabel='Predicted Class', ylabel='True Class'>"
          },
          "metadata": {}
        }
      ]
    }
  ]
}